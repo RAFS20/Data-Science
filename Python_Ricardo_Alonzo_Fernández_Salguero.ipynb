{
  "nbformat": 4,
  "nbformat_minor": 0,
  "metadata": {
    "colab": {
      "provenance": [],
      "authorship_tag": "ABX9TyOyEClynARZtyXGU4Sl4+R9",
      "include_colab_link": true
    },
    "kernelspec": {
      "name": "python3",
      "display_name": "Python 3"
    },
    "language_info": {
      "name": "python"
    }
  },
  "cells": [
    {
      "cell_type": "markdown",
      "metadata": {
        "id": "view-in-github",
        "colab_type": "text"
      },
      "source": [
        "<a href=\"https://colab.research.google.com/github/RAFS20/Data-Science/blob/main/Python_Ricardo_Alonzo_Fern%C3%A1ndez_Salguero.ipynb\" target=\"_parent\"><img src=\"https://colab.research.google.com/assets/colab-badge.svg\" alt=\"Open In Colab\"/></a>"
      ]
    },
    {
      "cell_type": "markdown",
      "source": [
        "Cuaderno de: Ricardo Alonzo Fernández Salguero"
      ],
      "metadata": {
        "id": "1pdmEf2lF2c8"
      }
    },
    {
      "cell_type": "markdown",
      "source": [
        "# Python"
      ],
      "metadata": {
        "id": "KWREpDUAF7tH"
      }
    },
    {
      "cell_type": "markdown",
      "source": [
        "1. **Declaración de variables:**\n",
        "   \n",
        "   En Python, puedes declarar una variable simplemente escribiendo su nombre y asignándole un valor. Python es un lenguaje de tipado dinámico, lo que significa que no es necesario especificar el tipo de variable al declararla.\n",
        "\n",
        "   ```python\n",
        "   # Ejemplo de declaración de variables\n",
        "   nombre = \"Juan\"  # Una variable de tipo cadena (str)\n",
        "   edad = 25       # Una variable de tipo entero (int)\n",
        "   altura = 1.75   # Una variable de tipo flotante (float)\n",
        "   es_estudiante = True  # Una variable booleana (bool)\n",
        "   ```\n",
        "\n",
        "   - `nombre` es una variable de tipo cadena que almacena el nombre \"Juan\".\n",
        "   - `edad` es una variable de tipo entero que almacena la edad 25.\n",
        "   - `altura` es una variable de tipo flotante que almacena la altura 1.75 metros.\n",
        "   - `es_estudiante` es una variable booleana que almacena el valor True.\n",
        "\n",
        "2. **Tipos de datos básicos: int, float, str, bool:**\n",
        "\n",
        "   En Python, los tipos de datos básicos son fundamentales para almacenar diferentes tipos de información.\n",
        "\n",
        "   ```python\n",
        "   # Ejemplos de tipos de datos básicos\n",
        "   entero = 42              # Tipo de dato int (entero)\n",
        "   flotante = 3.14          # Tipo de dato float (flotante)\n",
        "   cadena = \"Hola, mundo!\"  # Tipo de dato str (cadena de texto)\n",
        "   booleano = True          # Tipo de dato bool (booleano)\n",
        "   ```\n",
        "\n",
        "   - `entero` es una variable de tipo entero que almacena el valor 42.\n",
        "   - `flotante` es una variable de tipo flotante que almacena el valor 3.14.\n",
        "   - `cadena` es una variable de tipo cadena que almacena el texto \"Hola, mundo!\".\n",
        "   - `booleano` es una variable booleana que almacena el valor True.\n",
        "\n",
        "3. **Ejemplos de asignación de valores a variables:**\n",
        "\n",
        "   Puedes asignar valores a variables de diversas formas en Python.\n",
        "\n",
        "   ```python\n",
        "   # Ejemplos de asignación de valores a variables\n",
        "   a = 10       # Asignación de un valor entero\n",
        "   b = a + 5    # Asignación de un valor calculado\n",
        "   nombre = input(\"Ingresa tu nombre: \")  # Asignación de entrada de usuario\n",
        "   ```\n",
        "\n",
        "   - `a` se asigna con el valor entero 10.\n",
        "   - `b` se asigna con el valor calculado, que es `a + 5`, por lo que es igual a 15.\n",
        "   - `nombre` se asigna con el valor ingresado por el usuario utilizando la función `input()`.\n",
        "\n",
        "Estos ejemplos ilustran cómo declarar variables y trabajar con tipos de datos básicos en Python. Python es un lenguaje flexible que permite trabajar con una amplia gama de tipos de datos y realizar operaciones con ellos de manera sencilla."
      ],
      "metadata": {
        "id": "qzpuUCGaCnww"
      }
    },
    {
      "cell_type": "code",
      "execution_count": null,
      "metadata": {
        "colab": {
          "base_uri": "https://localhost:8080/"
        },
        "id": "SyLDj8vDCmVo",
        "outputId": "ae1d05f0-446b-45d4-fb5b-911dec1bedbb"
      },
      "outputs": [
        {
          "output_type": "stream",
          "name": "stdout",
          "text": [
            "Nombre: Juan\n",
            "Edad: 25\n",
            "Altura: 1.75\n",
            "Es estudiante: True\n",
            "Entero: 42\n",
            "Flotante: 3.14\n",
            "Cadena: Hola, mundo!\n",
            "Booleano: True\n",
            "Ingresa tu nombre: Ricardo\n",
            "a: 10\n",
            "b: 15\n",
            "Tu nombre: Ricardo\n"
          ]
        }
      ],
      "source": [
        "# Ejemplo de declaración de variables\n",
        "nombre = \"Juan\"  # Una variable de tipo cadena (str)\n",
        "edad = 25       # Una variable de tipo entero (int)\n",
        "altura = 1.75   # Una variable de tipo flotante (float)\n",
        "es_estudiante = True  # Una variable booleana (bool)\n",
        "\n",
        "# Imprimir los valores de las variables\n",
        "print(\"Nombre:\", nombre)\n",
        "print(\"Edad:\", edad)\n",
        "print(\"Altura:\", altura)\n",
        "print(\"Es estudiante:\", es_estudiante)\n",
        "\n",
        "# Ejemplos de tipos de datos básicos\n",
        "entero = 42              # Tipo de dato int (entero)\n",
        "flotante = 3.14          # Tipo de dato float (flotante)\n",
        "cadena = \"Hola, mundo!\"  # Tipo de dato str (cadena de texto)\n",
        "booleano = True          # Tipo de dato bool (booleano)\n",
        "\n",
        "# Imprimir los valores de las variables\n",
        "print(\"Entero:\", entero)\n",
        "print(\"Flotante:\", flotante)\n",
        "print(\"Cadena:\", cadena)\n",
        "print(\"Booleano:\", booleano)\n",
        "\n",
        "# Ejemplos de asignación de valores a variables\n",
        "a = 10       # Asignación de un valor entero\n",
        "b = a + 5    # Asignación de un valor calculado\n",
        "nombre = input(\"Ingresa tu nombre: \")  # Asignación de entrada de usuario\n",
        "\n",
        "# Imprimir los valores de las variables\n",
        "print(\"a:\", a)\n",
        "print(\"b:\", b)\n",
        "print(\"Tu nombre:\", nombre)"
      ]
    },
    {
      "cell_type": "markdown",
      "source": [
        "**Operadores Aritméticos**\n",
        "\n",
        "Los operadores aritméticos se utilizan para realizar operaciones matemáticas en Python.\n",
        "\n",
        "```python\n",
        "# Ejemplos de operadores aritméticos\n",
        "a = 10\n",
        "b = 5\n",
        "\n",
        "# Suma\n",
        "suma = a + b  # El valor de 'suma' será 15\n",
        "\n",
        "# Resta\n",
        "resta = a - b  # El valor de 'resta' será 5\n",
        "\n",
        "# Multiplicación\n",
        "multiplicacion = a * b  # El valor de 'multiplicacion' será 50\n",
        "\n",
        "# División\n",
        "division = a / b  # El valor de 'division' será 2.0 (división flotante)\n",
        "\n",
        "# División entera\n",
        "division_entera = a // b  # El valor de 'division_entera' será 2 (división entera)\n",
        "\n",
        "# Módulo (resto de la división)\n",
        "modulo = a % b  # El valor de 'modulo' será 0\n",
        "\n",
        "# Potencia\n",
        "potencia = a ** b  # El valor de 'potencia' será 100000\n",
        "```\n",
        "\n",
        "- El operador `+` suma dos valores.\n",
        "- El operador `-` resta el segundo valor del primero.\n",
        "- El operador `*` multiplica dos valores.\n",
        "- El operador `/` realiza una división flotante.\n",
        "- El operador `//` realiza una división entera, truncando el resultado.\n",
        "- El operador `%` calcula el módulo o el resto de la división.\n",
        "- El operador `**` calcula la potencia.\n",
        "\n",
        "**Operadores de Comparación**\n",
        "\n",
        "Los operadores de comparación se utilizan para comparar valores.\n",
        "```python\n",
        "# Ejemplos de operadores de comparación\n",
        "x = 10\n",
        "y = 5\n",
        "\n",
        "# Igual a\n",
        "igual = x == y  # El valor de 'igual' será False\n",
        "\n",
        "# Diferente de\n",
        "diferente = x != y  # El valor de 'diferente' será True\n",
        "\n",
        "# Mayor que\n",
        "mayor_que = x > y  # El valor de 'mayor_que' será True\n",
        "\n",
        "# Menor que\n",
        "menor_que = x < y  # El valor de 'menor_que' será False\n",
        "\n",
        "# Mayor o igual que\n",
        "mayor_igual = x >= y  # El valor de 'mayor_igual' será True\n",
        "\n",
        "# Menor o igual que\n",
        "menor_igual = x <= y  # El valor de 'menor_igual' será False\n",
        "```\n",
        "\n",
        "- El operador `==` verifica si dos valores son iguales.\n",
        "- El operador `!=` verifica si dos valores son diferentes.\n",
        "- El operador `>` verifica si el valor de la izquierda es mayor que el de la derecha.\n",
        "- El operador `<` verifica si el valor de la izquierda es menor que el de la derecha.\n",
        "- El operador `>=` verifica si el valor de la izquierda es mayor o igual que el de la derecha.\n",
        "- El operador `<=` verifica si el valor de la izquierda es menor o igual que el de la derecha.\n",
        "\n",
        "**Operadores Lógicos**\n",
        "\n",
        "Los operadores lógicos se utilizan para realizar operaciones lógicas en Python.\n",
        "\n",
        "```python\n",
        "# Ejemplos de operadores lógicos\n",
        "p = True\n",
        "q = False\n",
        "\n",
        "# Operador AND (y)\n",
        "resultado_and = p and q  # El valor de 'resultado_and' será False\n",
        "\n",
        "# Operador OR (o)\n",
        "resultado_or = p or q    # El valor de 'resultado_or' será True\n",
        "\n",
        "# Operador NOT (no)\n",
        "resultado_not_p = not p  # El valor de 'resultado_not_p' será False\n",
        "resultado_not_q = not q  # El valor de 'resultado_not_q' será True\n",
        "```\n",
        "\n",
        "- El operador `and` devuelve True si ambos operandos son True.\n",
        "- El operador `or` devuelve True si al menos uno de los operandos es True.\n",
        "- El operador `not` devuelve la negación del operando.\n",
        "\n",
        "**Ejemplos de Expresiones con Operadores**\n",
        "\n",
        "\n",
        "```python\n",
        "# Ejemplos de expresiones con operadores\n",
        "a = 10\n",
        "b = 5\n",
        "c = 20\n",
        "\n",
        "# Expresión con operadores aritméticos y de comparación\n",
        "expresion1 = (a + b) * c > (a * c) + (b * c)  # El valor de 'expresion1' será False\n",
        "\n",
        "# Expresión con operadores lógicos\n",
        "expresion2 = (a > b) and (b < c)  # El valor de 'expresion2' será True\n",
        "```\n",
        "\n",
        "- `expresion1` combina operadores aritméticos y de comparación para verificar si una expresión es verdadera.\n",
        "- `expresion2` combina operadores lógicos para verificar si ambas condiciones son verdaderas.\n",
        "\n",
        "Estos ejemplos ilustran cómo funcionan los operadores aritméticos, de comparación y lógicos en Python y cómo se pueden combinar en expresiones."
      ],
      "metadata": {
        "id": "Vw3jW0o1DRhI"
      }
    },
    {
      "cell_type": "code",
      "source": [
        "# Ejemplos de operadores aritméticos\n",
        "a = 5\n",
        "b = 2\n",
        "\n",
        "# Suma\n",
        "suma = a + b  # El valor de 'suma' será 15\n",
        "\n",
        "# Resta\n",
        "resta = a - b  # El valor de 'resta' será 5\n",
        "\n",
        "# Multiplicación\n",
        "multiplicacion = a * b  # El valor de 'multiplicacion' será 50\n",
        "\n",
        "# División\n",
        "division = a / b  # El valor de 'division' será 2.0 (división flotante)\n",
        "\n",
        "# División entera\n",
        "division_entera = a // b  # El valor de 'division_entera' será 2 (división entera)\n",
        "\n",
        "# Módulo (resto de la división)\n",
        "modulo = a % b  # El valor de 'modulo' será 0\n",
        "\n",
        "# Potencia\n",
        "potencia = a ** b  # El valor de 'potencia' será 100000\n",
        "\n",
        "# Imprimir los resultados de operadores aritméticos\n",
        "print(\"Suma:\", suma)\n",
        "print(\"Resta:\", resta)\n",
        "print(\"Multiplicación:\", multiplicacion)\n",
        "print(\"División:\", division)\n",
        "print(\"División entera:\", division_entera)\n",
        "print(\"Módulo:\", modulo)\n",
        "print(\"Potencia:\", potencia)"
      ],
      "metadata": {
        "colab": {
          "base_uri": "https://localhost:8080/"
        },
        "id": "4jrHPgCDDQTx",
        "outputId": "843558e8-36ad-45c3-be29-27d7da1ecac6"
      },
      "execution_count": null,
      "outputs": [
        {
          "output_type": "stream",
          "name": "stdout",
          "text": [
            "Suma: 7\n",
            "Resta: 3\n",
            "Multiplicación: 10\n",
            "División: 2.5\n",
            "División entera: 2\n",
            "Módulo: 1\n",
            "Potencia: 25\n"
          ]
        }
      ]
    },
    {
      "cell_type": "code",
      "source": [
        "# Ejemplos de operadores de comparación\n",
        "x = 10\n",
        "y = 5\n",
        "\n",
        "# Igual a\n",
        "igual = x == y  # El valor de 'igual' será False\n",
        "\n",
        "# Diferente de\n",
        "diferente = x != y  # El valor de 'diferente' será True\n",
        "\n",
        "# Mayor que\n",
        "mayor_que = x > y  # El valor de 'mayor_que' será True\n",
        "\n",
        "# Menor que\n",
        "menor_que = x < y  # El valor de 'menor_que' será False\n",
        "\n",
        "# Mayor o igual que\n",
        "mayor_igual = x >= y  # El valor de 'mayor_igual' será True\n",
        "\n",
        "# Menor o igual que\n",
        "menor_igual = x <= y  # El valor de 'menor_igual' será False\n",
        "\n",
        "# Imprimir los resultados de operadores de comparación\n",
        "print(\"Igual a:\", igual)\n",
        "print(\"Diferente de:\", diferente)\n",
        "print(\"Mayor que:\", mayor_que)\n",
        "print(\"Menor que:\", menor_que)\n",
        "print(\"Mayor o igual que:\", mayor_igual)\n",
        "print(\"Menor o igual que:\", menor_igual)"
      ],
      "metadata": {
        "colab": {
          "base_uri": "https://localhost:8080/"
        },
        "id": "9Kf0bCSFFcM-",
        "outputId": "c9d1e559-e32a-4849-ad49-ae1da116ba3e"
      },
      "execution_count": null,
      "outputs": [
        {
          "output_type": "stream",
          "name": "stdout",
          "text": [
            "Igual a: False\n",
            "Diferente de: True\n",
            "Mayor que: True\n",
            "Menor que: False\n",
            "Mayor o igual que: True\n",
            "Menor o igual que: False\n"
          ]
        }
      ]
    },
    {
      "cell_type": "code",
      "source": [
        "# Ejemplos de operadores lógicos\n",
        "p = True\n",
        "q = False\n",
        "\n",
        "# Operador AND (y)\n",
        "resultado_and = p and q  # El valor de 'resultado_and' será False\n",
        "\n",
        "# Operador OR (o)\n",
        "resultado_or = p or q    # El valor de 'resultado_or' será True\n",
        "\n",
        "# Operador NOT (no)\n",
        "resultado_not_p = not p  # El valor de 'resultado_not_p' será False\n",
        "resultado_not_q = not q  # El valor de 'resultado_not_q' será True\n",
        "\n",
        "# Imprimir los resultados de operadores lógicos\n",
        "print(\"Operador AND:\", resultado_and)\n",
        "print(\"Operador OR:\", resultado_or)\n",
        "print(\"Operador NOT para p:\", resultado_not_p)\n",
        "print(\"Operador NOT para q:\", resultado_not_q)"
      ],
      "metadata": {
        "colab": {
          "base_uri": "https://localhost:8080/"
        },
        "id": "xv0jkLKfFenw",
        "outputId": "ae4e45a3-d8c5-474d-de52-868dd4b83af5"
      },
      "execution_count": null,
      "outputs": [
        {
          "output_type": "stream",
          "name": "stdout",
          "text": [
            "Operador AND: False\n",
            "Operador OR: True\n",
            "Operador NOT para p: False\n",
            "Operador NOT para q: True\n"
          ]
        }
      ]
    },
    {
      "cell_type": "code",
      "source": [
        "# Ejemplos de expresiones con operadores\n",
        "a = 10\n",
        "b = 5\n",
        "c = 20\n",
        "\n",
        "# Expresión con operadores aritméticos y de comparación\n",
        "expresion1 = (a + b) * c > (a * c) + (b * c)  # El valor de 'expresion1' será False\n",
        "\n",
        "# Expresión con operadores lógicos\n",
        "expresion2 = (a > b) and (b < c)  # El valor de 'expresion2' será True\n",
        "\n",
        "# Imprimir los resultados de las expresiones\n",
        "print(\"Expresión 1:\", expresion1)\n",
        "print(\"Expresión 2:\", expresion2)"
      ],
      "metadata": {
        "colab": {
          "base_uri": "https://localhost:8080/"
        },
        "id": "iYQQUnXjFg2d",
        "outputId": "575a1041-0193-4032-eab7-07f1ffbe30a6"
      },
      "execution_count": null,
      "outputs": [
        {
          "output_type": "stream",
          "name": "stdout",
          "text": [
            "Expresión 1: False\n",
            "Expresión 2: True\n"
          ]
        }
      ]
    },
    {
      "cell_type": "markdown",
      "source": [
        "**Operadores lógicos**\n",
        "\n",
        "**1. Introducción a Operadores Lógicos**\n",
        "   \n",
        "   Los operadores lógicos se utilizan para realizar operaciones lógicas en Python. Los operadores lógicos más comunes son `and`, `or` y `not`.\n",
        "\n",
        "**2. Operador `and` (Y Lógico)**\n",
        "\n",
        "   El operador `and` devuelve True solo si ambas condiciones son True.\n",
        "\n",
        "   ```python\n",
        "   # Ejemplo de operador 'and'\n",
        "   edad = 25\n",
        "   tiene_licencia = True\n",
        "\n",
        "   if edad >= 18 and tiene_licencia:\n",
        "       print(\"Puede conducir un automóvil.\")\n",
        "   else:\n",
        "       print(\"No puede conducir un automóvil.\")\n",
        "   ```\n",
        "\n",
        "   - En este ejemplo, `edad >= 18` evalúa si la edad es mayor o igual a 18, y `tiene_licencia` verifica si la persona tiene una licencia de conducir.\n",
        "   - La expresión `edad >= 18 and tiene_licencia` devuelve True solo si ambas condiciones son True. Si es así, se imprime \"Puede conducir un automóvil.\" de lo contrario, se imprime \"No puede conducir un automóvil.\"\n",
        "\n",
        "**3. Operador `or` (O Lógico)**\n",
        "\n",
        "   El operador `or` devuelve True si al menos una de las condiciones es True.\n",
        "\n",
        "   ```python\n",
        "   # Ejemplo de operador 'or'\n",
        "   es_estudiante = True\n",
        "   es_empleado = False\n",
        "\n",
        "   if es_estudiante or es_empleado:\n",
        "       print(\"La persona está involucrada en la educación o el empleo.\")\n",
        "   else:\n",
        "       print(\"La persona no está involucrada en la educación ni el empleo.\")\n",
        "   ```\n",
        "\n",
        "   - En este ejemplo, `es_estudiante` verifica si la persona es estudiante, y `es_empleado` verifica si la persona es empleada.\n",
        "   - La expresión `es_estudiante or es_empleado` devuelve True si al menos una de las condiciones es True. Si es así, se imprime \"La persona está involucrada en la educación o el empleo.\" de lo contrario, se imprime \"La persona no está involucrada en la educación ni el empleo.\"\n",
        "\n",
        "**4. Operador `not` (NO Lógico)**\n",
        "\n",
        "   El operador `not` se utiliza para negar una condición.\n",
        "\n",
        "   ```python\n",
        "   # Ejemplo de operador 'not'\n",
        "   tiene_permiso = False\n",
        "\n",
        "   if not tiene_permiso:\n",
        "       print(\"No tiene permiso para acceder a esta área.\")\n",
        "   else:\n",
        "       print(\"Tiene permiso para acceder a esta área.\")\n",
        "   ```\n",
        "\n",
        "   - En este ejemplo, `not tiene_permiso` verifica si la variable `tiene_permiso` es False. Si es así, se imprime \"No tiene permiso para acceder a esta área.\" de lo contrario, se imprime \"Tiene permiso para acceder a esta área.\"\n",
        "\n",
        "**5. Combinación de Operadores Lógicos**\n",
        "\n",
        "   Puedes combinar operadores lógicos para formar expresiones más complejas.\n",
        "\n",
        "   ```python\n",
        "   # Ejemplo de combinación de operadores lógicos\n",
        "   es_adulto = True\n",
        "   tiene_licencia = True\n",
        "\n",
        "   if es_adulto and tiene_licencia:\n",
        "       print(\"La persona adulta tiene una licencia de conducir.\")\n",
        "   else:\n",
        "       print(\"La persona no cumple ambos criterios.\")\n",
        "   ```\n",
        "\n",
        "   - En este ejemplo, estamos utilizando `and` para verificar si una persona es adulta y si tiene una licencia de conducir antes de permitir que conduzca.\n",
        "\n",
        "**6. Prioridad de Operadores Lógicos**\n",
        "\n",
        "   Es importante recordar que los operadores lógicos tienen prioridades. Si deseas controlar el orden de evaluación, puedes utilizar paréntesis.\n",
        "\n",
        "   ```python\n",
        "   # Ejemplo de prioridad de operadores lógicos\n",
        "   x = True\n",
        "   y = False\n",
        "   z = True\n",
        "\n",
        "   if (x or y) and z:\n",
        "       print(\"La expresión se evalúa como True.\")\n",
        "   else:\n",
        "       print(\"La expresión se evalúa como False.\")\n",
        "   ```\n",
        "\n",
        "   - En este ejemplo, los paréntesis `(x or y)` se evalúan primero debido a la prioridad, y luego se verifica si el resultado de eso y `z` es True."
      ],
      "metadata": {
        "id": "8_AufG4QEQRn"
      }
    },
    {
      "cell_type": "code",
      "source": [
        "# Ejemplo de operadores lógicos en Python\n",
        "\n",
        "# Introducción a Operadores Lógicos\n",
        "# Los operadores lógicos se utilizan para realizar operaciones lógicas en Python.\n",
        "\n",
        "# Operador 'and' (Y Lógico)\n",
        "# El operador 'and' devuelve True solo si ambas condiciones son True.\n",
        "edad = 25  # Asignamos un valor a la variable 'edad', que representa la edad de una persona.\n",
        "tiene_licencia = True  # Asignamos un valor a la variable 'tiene_licencia', que indica si la persona tiene una licencia de conducir.\n",
        "\n",
        "# Comprobamos si la edad es mayor o igual a 18 y si tiene una licencia.\n",
        "if edad >= 18 and tiene_licencia:\n",
        "    print(\"Puede conducir un automóvil.\")  # Si ambas condiciones son True, se imprime este mensaje.\n",
        "else:\n",
        "    print(\"No puede conducir un automóvil.\")  # Si al menos una condición es False, se imprime este mensaje."
      ],
      "metadata": {
        "colab": {
          "base_uri": "https://localhost:8080/"
        },
        "id": "YytuNyxaFB98",
        "outputId": "aecfedd2-7ce6-425d-d427-0306d664f6a9"
      },
      "execution_count": null,
      "outputs": [
        {
          "output_type": "stream",
          "name": "stdout",
          "text": [
            "Puede conducir un automóvil.\n"
          ]
        }
      ]
    },
    {
      "cell_type": "code",
      "source": [
        "# Operador 'or' (O Lógico)\n",
        "# El operador 'or' devuelve True si al menos una de las condiciones es True.\n",
        "es_estudiante = True  # Asignamos un valor a la variable 'es_estudiante', que indica si la persona es estudiante.\n",
        "es_empleado = False  # Asignamos un valor a la variable 'es_empleado', que indica si la persona es empleada.\n",
        "\n",
        "# Comprobamos si la persona es estudiante o empleada.\n",
        "if es_estudiante or es_empleado:\n",
        "    print(\"La persona está involucrada en la educación o el empleo.\")  # Si al menos una condición es True, se imprime este mensaje.\n",
        "else:\n",
        "    print(\"La persona no está involucrada en la educación ni el empleo.\")  # Si ambas condiciones son False, se imprime este mensaje."
      ],
      "metadata": {
        "colab": {
          "base_uri": "https://localhost:8080/"
        },
        "id": "2GRpE_jEFIru",
        "outputId": "3de18d04-16fa-443e-9278-fa04cf4ffb78"
      },
      "execution_count": null,
      "outputs": [
        {
          "output_type": "stream",
          "name": "stdout",
          "text": [
            "La persona está involucrada en la educación o el empleo.\n"
          ]
        }
      ]
    },
    {
      "cell_type": "code",
      "source": [
        "# Operador 'not' (NO Lógico)\n",
        "# El operador 'not' se utiliza para negar una condición.\n",
        "tiene_permiso = False  # Asignamos un valor a la variable 'tiene_permiso', que indica si la persona tiene permiso para acceder a una área.\n",
        "\n",
        "# Comprobamos si la persona no tiene permiso.\n",
        "if not tiene_permiso:\n",
        "    print(\"No tiene permiso para acceder a esta área.\")  # Si la condición es True (no tiene permiso), se imprime este mensaje.\n",
        "else:\n",
        "    print(\"Tiene permiso para acceder a esta área.\")  # Si la condición es False (tiene permiso), se imprime este mensaje."
      ],
      "metadata": {
        "colab": {
          "base_uri": "https://localhost:8080/"
        },
        "id": "__bO-_7aFMfA",
        "outputId": "d6cc85ea-880f-4d27-cec1-0b71326841c0"
      },
      "execution_count": null,
      "outputs": [
        {
          "output_type": "stream",
          "name": "stdout",
          "text": [
            "No tiene permiso para acceder a esta área.\n"
          ]
        }
      ]
    },
    {
      "cell_type": "code",
      "source": [
        "# Combinación de Operadores Lógicos\n",
        "# Puedes combinar operadores lógicos para formar expresiones más complejas.\n",
        "es_adulto = True  # Asignamos un valor a la variable 'es_adulto', que indica si la persona es adulta.\n",
        "tiene_licencia = True  # Asignamos un valor a la variable 'tiene_licencia', que indica si la persona tiene una licencia de conducir.\n",
        "\n",
        "# Comprobamos si la persona es adulta y tiene una licencia de conducir.\n",
        "if es_adulto and tiene_licencia:\n",
        "    print(\"La persona adulta tiene una licencia de conducir.\")  # Si ambas condiciones son True, se imprime este mensaje.\n",
        "else:\n",
        "    print(\"La persona no cumple ambos criterios.\")  # Si al menos una condición es False, se imprime este mensaje."
      ],
      "metadata": {
        "colab": {
          "base_uri": "https://localhost:8080/"
        },
        "id": "CkXQlIAbFPgJ",
        "outputId": "f5a838e7-6dc9-4b17-9986-639439cf772e"
      },
      "execution_count": null,
      "outputs": [
        {
          "output_type": "stream",
          "name": "stdout",
          "text": [
            "La persona adulta tiene una licencia de conducir.\n"
          ]
        }
      ]
    },
    {
      "cell_type": "code",
      "source": [
        "# Prioridad de Operadores Lógicos\n",
        "# Los operadores lógicos tienen prioridades, pero puedes usar paréntesis para controlar el orden de evaluación.\n",
        "x = True  # Asignamos un valor True a la variable 'x'.\n",
        "y = False  # Asignamos un valor False a la variable 'y'.\n",
        "z = True  # Asignamos un valor True a la variable 'z'.\n",
        "\n",
        "# Comprobamos si la expresión (x or y) and z es True.\n",
        "if (x or y) and z:\n",
        "    print(\"La expresión se evalúa como True.\")  # Si la expresión es True, se imprime este mensaje.\n",
        "else:\n",
        "    print(\"La expresión se evalúa como False.\")  # Si la expresión es False, se imprime este mensaje."
      ],
      "metadata": {
        "colab": {
          "base_uri": "https://localhost:8080/"
        },
        "id": "xarWI4zrFTvW",
        "outputId": "d6c6a7a3-ff3f-496e-dff2-d62cb898322a"
      },
      "execution_count": null,
      "outputs": [
        {
          "output_type": "stream",
          "name": "stdout",
          "text": [
            "La expresión se evalúa como True.\n"
          ]
        }
      ]
    },
    {
      "cell_type": "markdown",
      "source": [
        "# Estructuras de Datos en Python: Listas\n",
        "\n",
        "Las listas son una de las estructuras de datos más versátiles y utilizadas en Python. Permiten almacenar una colección ordenada de elementos, como números, cadenas, objetos u otras listas. En este tutorial, exploraremos en detalle las listas en Python, incluyendo su definición, creación, manipulación y operaciones comunes.\n",
        "\n",
        "## Definición de Listas\n",
        "\n",
        "Una lista es una colección ordenada de elementos que pueden ser de diferentes tipos, como números, cadenas de texto, booleanos, objetos, y más. Las listas se definen utilizando corchetes `[]` y separando los elementos con comas. Aquí tienes un ejemplo de cómo se ve una lista en Python:\n",
        "\n",
        "```python\n",
        "mi_lista = [1, 2, 3, 4, 5]\n",
        "```\n",
        "\n",
        "En este caso, `mi_lista` es una lista que contiene cinco números enteros. Las listas son una estructura de datos mutable, lo que significa que puedes cambiar su contenido una vez que se crean.\n",
        "\n"
      ],
      "metadata": {
        "id": "KD-L0B0SSgMj"
      }
    },
    {
      "cell_type": "code",
      "source": [
        "mi_lista = [1, 2, 3, 4, 5]"
      ],
      "metadata": {
        "id": "vdX9JYHsTdX9"
      },
      "execution_count": null,
      "outputs": []
    },
    {
      "cell_type": "markdown",
      "source": [
        "## Creación de Listas\n",
        "\n",
        "Las listas se pueden crear de varias formas en Python. Además de definirlas directamente como se mostró anteriormente, aquí hay algunas otras formas comunes de crear listas:\n",
        "\n",
        "### Usando la función `list()`\n",
        "\n",
        "Puedes crear una lista vacía usando la función `list()` y luego agregar elementos a ella:\n",
        "\n",
        "```python\n",
        "mi_lista = list()\n",
        "mi_lista.append(1)\n",
        "mi_lista.append(2)\n",
        "mi_lista.append(3)\n",
        "```"
      ],
      "metadata": {
        "id": "CrQz4He5Spqh"
      }
    },
    {
      "cell_type": "code",
      "source": [
        "mi_lista = list()\n",
        "mi_lista.append(1)\n",
        "mi_lista.append(2)\n",
        "mi_lista.append(3)\n",
        "mi_lista"
      ],
      "metadata": {
        "colab": {
          "base_uri": "https://localhost:8080/"
        },
        "id": "W6aySEPtTfWd",
        "outputId": "5d9f3e8e-e151-469a-80c4-dd9944544697"
      },
      "execution_count": null,
      "outputs": [
        {
          "output_type": "execute_result",
          "data": {
            "text/plain": [
              "[1, 2, 3]"
            ]
          },
          "metadata": {},
          "execution_count": 13
        }
      ]
    },
    {
      "cell_type": "markdown",
      "source": [
        "### Usando una comprensión de lista\n",
        "\n",
        "Las comprensiones de lista son una forma concisa de crear listas. Por ejemplo, para crear una lista de números pares del 0 al 9, puedes hacer lo siguiente:\n",
        "\n",
        "```python\n",
        "numeros_pares = [x for x in range(10) if x % 2 == 0]\n",
        "```"
      ],
      "metadata": {
        "id": "iDx1kJE5Stol"
      }
    },
    {
      "cell_type": "code",
      "source": [
        "numeros_pares = [x for x in range(10) if x % 2 == 0]\n",
        "numeros_pares"
      ],
      "metadata": {
        "colab": {
          "base_uri": "https://localhost:8080/"
        },
        "id": "LBtKlMDQTpKV",
        "outputId": "8a1f328d-d34d-40b9-9ffa-89bc3136cf96"
      },
      "execution_count": null,
      "outputs": [
        {
          "output_type": "execute_result",
          "data": {
            "text/plain": [
              "[0, 2, 4, 6, 8]"
            ]
          },
          "metadata": {},
          "execution_count": 19
        }
      ]
    },
    {
      "cell_type": "markdown",
      "source": [
        "### Usando la repetición de elementos\n",
        "\n",
        "Puedes crear una lista repitiendo un elemento o una secuencia de elementos varias veces:\n",
        "\n",
        "```python\n",
        "repeticion = [0] * 5  # Crea una lista con cinco ceros\n",
        "```"
      ],
      "metadata": {
        "id": "LdKqh3USS3P1"
      }
    },
    {
      "cell_type": "code",
      "source": [
        "repeticion = [0] * 5  # Crea una lista con cinco ceros\n",
        "repeticion"
      ],
      "metadata": {
        "colab": {
          "base_uri": "https://localhost:8080/"
        },
        "id": "NnA67k08Txwq",
        "outputId": "ba77cece-c3d9-406f-ee80-0fe9c85982e2"
      },
      "execution_count": null,
      "outputs": [
        {
          "output_type": "execute_result",
          "data": {
            "text/plain": [
              "[0, 0, 0, 0, 0]"
            ]
          },
          "metadata": {},
          "execution_count": 15
        }
      ]
    },
    {
      "cell_type": "markdown",
      "source": [
        "## Acceso a Elementos de una Lista\n",
        "\n",
        "Puedes acceder a los elementos de una lista utilizando su índice. Los índices en Python comienzan en 0, lo que significa que el primer elemento tiene un índice de 0, el segundo tiene un índice de 1 y así sucesivamente. Por ejemplo:\n",
        "\n",
        "```python\n",
        "mi_lista = [10, 20, 30, 40, 50]\n",
        "primer_elemento = mi_lista[0]  # Acceder al primer elemento (10)\n",
        "segundo_elemento = mi_lista[1]  # Acceder al segundo elemento (20)\n",
        "```\n",
        "\n",
        "También puedes usar índices negativos para acceder a los elementos desde el final de la lista. `-1` se refiere al último elemento, `-2` al penúltimo y así sucesivamente:\n",
        "\n",
        "```python\n",
        "ultimo_elemento = mi_lista[-1]  # Acceder al último elemento (50)\n",
        "penultimo_elemento = mi_lista[-2]  # Acceder al penúltimo elemento (40)\n",
        "```"
      ],
      "metadata": {
        "id": "a77bLuLuS6Rk"
      }
    },
    {
      "cell_type": "code",
      "source": [
        "mi_lista = [10, 20, 30, 40, 50]\n",
        "primer_elemento = mi_lista[0]  # Acceder al primer elemento (10)\n",
        "primer_elemento"
      ],
      "metadata": {
        "colab": {
          "base_uri": "https://localhost:8080/"
        },
        "id": "IEFL6jUbT2dz",
        "outputId": "fcf40af0-01f8-4a5b-a54e-16fdb055fdbf"
      },
      "execution_count": null,
      "outputs": [
        {
          "output_type": "execute_result",
          "data": {
            "text/plain": [
              "10"
            ]
          },
          "metadata": {},
          "execution_count": 16
        }
      ]
    },
    {
      "cell_type": "code",
      "source": [
        "segundo_elemento = mi_lista[1]  # Acceder al segundo elemento (20)\n",
        "segundo_elemento"
      ],
      "metadata": {
        "colab": {
          "base_uri": "https://localhost:8080/"
        },
        "id": "5H7uU5AcT8b6",
        "outputId": "884c3935-c9b5-4e7a-bc00-7875d734ea20"
      },
      "execution_count": null,
      "outputs": [
        {
          "output_type": "execute_result",
          "data": {
            "text/plain": [
              "20"
            ]
          },
          "metadata": {},
          "execution_count": 17
        }
      ]
    },
    {
      "cell_type": "code",
      "source": [
        "ultimo_elemento = mi_lista[-1]  # Acceder al último elemento (50)\n",
        "ultimo_elemento"
      ],
      "metadata": {
        "colab": {
          "base_uri": "https://localhost:8080/"
        },
        "id": "ggoK5gseT_Jt",
        "outputId": "4c4b4961-64be-44d0-95ff-040916ac5464"
      },
      "execution_count": null,
      "outputs": [
        {
          "output_type": "execute_result",
          "data": {
            "text/plain": [
              "50"
            ]
          },
          "metadata": {},
          "execution_count": 18
        }
      ]
    },
    {
      "cell_type": "code",
      "source": [
        "penultimo_elemento = mi_lista[-2]  # Acceder al penúltimo elemento (40)\n",
        "penultimo_elemento"
      ],
      "metadata": {
        "colab": {
          "base_uri": "https://localhost:8080/"
        },
        "id": "xxBDXia0UEOc",
        "outputId": "db9b9bbd-a295-42f2-f126-95a5154cfc84"
      },
      "execution_count": null,
      "outputs": [
        {
          "output_type": "execute_result",
          "data": {
            "text/plain": [
              "40"
            ]
          },
          "metadata": {},
          "execution_count": 19
        }
      ]
    },
    {
      "cell_type": "markdown",
      "source": [
        "## Modificación de Elementos de una Lista\n",
        "\n",
        "Las listas son mutables, lo que significa que puedes modificar sus elementos después de crear la lista. Para cambiar un elemento en una lista, simplemente asigna un nuevo valor al elemento utilizando su índice. Por ejemplo:\n",
        "\n",
        "```python\n",
        "mi_lista = [10, 20, 30, 40, 50]\n",
        "mi_lista[2] = 35  # Modificar el tercer elemento (30 a 35)\n",
        "```\n",
        "\n",
        "También puedes modificar una porción de la lista utilizando la asignación de segmento. Por ejemplo, para cambiar los elementos del segundo al cuarto:\n",
        "\n",
        "```python\n",
        "mi_lista[1:4] = [25, 45, 55]  # Modificar elementos del segundo al cuarto\n",
        "```"
      ],
      "metadata": {
        "id": "F2PHuzAVS9Ll"
      }
    },
    {
      "cell_type": "code",
      "source": [
        "mi_lista = [10, 20, 30, 40, 50]\n",
        "mi_lista[2] = 35  # Modificar el tercer elemento (30 a 35)\n",
        "mi_lista"
      ],
      "metadata": {
        "colab": {
          "base_uri": "https://localhost:8080/"
        },
        "id": "WLfjH6VYUIDp",
        "outputId": "e29b39e0-be25-47e1-ccd8-debd20346a37"
      },
      "execution_count": null,
      "outputs": [
        {
          "output_type": "execute_result",
          "data": {
            "text/plain": [
              "[10, 20, 35, 40, 50]"
            ]
          },
          "metadata": {},
          "execution_count": 20
        }
      ]
    },
    {
      "cell_type": "code",
      "source": [
        "mi_lista[1:4] = [25, 45, 55]  # Modificar elementos del segundo al cuarto\n",
        "mi_lista"
      ],
      "metadata": {
        "colab": {
          "base_uri": "https://localhost:8080/"
        },
        "id": "jwR4B1fxUNn-",
        "outputId": "8babcbc6-0c43-42dc-e4f9-a8a5c2639658"
      },
      "execution_count": null,
      "outputs": [
        {
          "output_type": "execute_result",
          "data": {
            "text/plain": [
              "[10, 25, 45, 55, 50]"
            ]
          },
          "metadata": {},
          "execution_count": 21
        }
      ]
    },
    {
      "cell_type": "markdown",
      "source": [
        "## Operaciones Comunes con Listas\n",
        "\n",
        "Las listas en Python admiten una variedad de operaciones comunes que facilitan su manipulación. Algunas de las operaciones más utilizadas incluyen:\n",
        "\n",
        "### Agregar Elementos\n",
        "\n",
        "- `append()`: Agrega un elemento al final de la lista.\n",
        "- `insert()`: Inserta un elemento en una posición específica de la lista.\n",
        "\n",
        "```python\n",
        "mi_lista = [1, 2, 3]\n",
        "mi_lista.append(4)    # Agrega 4 al final de la lista\n",
        "mi_lista.insert(1, 5)  # Inserta 5 en la posición 1 (desplaza los elementos existentes)\n",
        "```"
      ],
      "metadata": {
        "id": "ebNekxy5TBtm"
      }
    },
    {
      "cell_type": "code",
      "source": [
        "mi_lista = [1, 2, 3]\n",
        "mi_lista.append(4)    # Agrega 4 al final de la lista\n",
        "mi_lista"
      ],
      "metadata": {
        "colab": {
          "base_uri": "https://localhost:8080/"
        },
        "id": "x9qWxbeQUe4B",
        "outputId": "545d3f2e-d9ba-4c90-ef1c-9c09cae5d187"
      },
      "execution_count": null,
      "outputs": [
        {
          "output_type": "execute_result",
          "data": {
            "text/plain": [
              "[1, 2, 3, 4]"
            ]
          },
          "metadata": {},
          "execution_count": 22
        }
      ]
    },
    {
      "cell_type": "code",
      "source": [
        "mi_lista.insert(1, 5)  # Inserta 5 en la posición 1 (desplaza los elementos existentes)\n",
        "mi_lista"
      ],
      "metadata": {
        "colab": {
          "base_uri": "https://localhost:8080/"
        },
        "id": "8lsT4kx-UhOx",
        "outputId": "5e227294-6723-4b7c-a638-9ee91aa5287c"
      },
      "execution_count": null,
      "outputs": [
        {
          "output_type": "execute_result",
          "data": {
            "text/plain": [
              "[1, 5, 2, 3, 4]"
            ]
          },
          "metadata": {},
          "execution_count": 23
        }
      ]
    },
    {
      "cell_type": "markdown",
      "source": [
        "### Eliminar Elementos\n",
        "\n",
        "- `remove()`: Elimina la primera aparición de un elemento específico.\n",
        "- `pop()`: Elimina y devuelve el elemento en una posición dada.\n",
        "\n",
        "```python\n",
        "mi_lista = [1, 2, 3, 2]\n",
        "mi_lista.remove(2)  # Elimina la primera aparición de 2\n",
        "elemento_eliminado = mi_lista.pop(1)  # Elimina el elemento en la posición 1 (2) y lo devuelve\n",
        "```"
      ],
      "metadata": {
        "id": "WbfLroNKTFas"
      }
    },
    {
      "cell_type": "code",
      "source": [
        "mi_lista = [1, 2, 3, 2]\n",
        "mi_lista.remove(2)  # Elimina la primera aparición de 2\n",
        "mi_lista"
      ],
      "metadata": {
        "colab": {
          "base_uri": "https://localhost:8080/"
        },
        "id": "SuioE0qNUpl-",
        "outputId": "db40d50a-13e4-4710-c553-d9646c6233b4"
      },
      "execution_count": null,
      "outputs": [
        {
          "output_type": "execute_result",
          "data": {
            "text/plain": [
              "[1, 3, 2]"
            ]
          },
          "metadata": {},
          "execution_count": 24
        }
      ]
    },
    {
      "cell_type": "code",
      "source": [
        "mi_lista = [1, 2, 3, 2]\n",
        "elemento_eliminado = mi_lista.pop(1)  # Elimina el elemento en la posición 1 (2) y lo devuelve\n",
        "elemento_eliminado"
      ],
      "metadata": {
        "colab": {
          "base_uri": "https://localhost:8080/"
        },
        "id": "CLY2Cm1ZUq6A",
        "outputId": "5d69d0ac-78ca-4bc4-9aac-fd468fce3ffb"
      },
      "execution_count": null,
      "outputs": [
        {
          "output_type": "execute_result",
          "data": {
            "text/plain": [
              "2"
            ]
          },
          "metadata": {},
          "execution_count": 25
        }
      ]
    },
    {
      "cell_type": "code",
      "source": [
        "mi_lista"
      ],
      "metadata": {
        "colab": {
          "base_uri": "https://localhost:8080/"
        },
        "id": "tWNwl83krCq-",
        "outputId": "5fe8ce9c-9b05-461e-b98c-83266a315cc3"
      },
      "execution_count": null,
      "outputs": [
        {
          "output_type": "execute_result",
          "data": {
            "text/plain": [
              "[1, 3, 2]"
            ]
          },
          "metadata": {},
          "execution_count": 26
        }
      ]
    },
    {
      "cell_type": "markdown",
      "source": [
        "### Extender Listas\n",
        "\n",
        "- `extend()`: Agrega todos los elementos de una lista a otra.\n",
        "- `+=`: Una forma abreviada de extender una lista.\n",
        "\n",
        "```python\n",
        "lista1 = [1, 2, 3]\n",
        "lista2 = [4, 5, 6]\n",
        "lista1.extend(lista2)  # Extiende lista1 con los elementos de lista2\n",
        "# También puedes hacerlo como lista1 += lista2\n",
        "```"
      ],
      "metadata": {
        "id": "i00ycqJ-TIoA"
      }
    },
    {
      "cell_type": "code",
      "source": [
        "lista1 = [1, 2, 3]\n",
        "lista2 = [4, 5, 6]\n",
        "lista1.extend(lista2)  # Extiende lista1 con los elementos de lista2\n",
        "# También puedes hacerlo como lista1 += lista2\n",
        "lista1"
      ],
      "metadata": {
        "colab": {
          "base_uri": "https://localhost:8080/"
        },
        "id": "M9kye3cKU6hY",
        "outputId": "f3c2204c-54e5-4325-9655-7ba7321c1762"
      },
      "execution_count": null,
      "outputs": [
        {
          "output_type": "execute_result",
          "data": {
            "text/plain": [
              "[1, 2, 3, 4, 5, 6]"
            ]
          },
          "metadata": {},
          "execution_count": 27
        }
      ]
    },
    {
      "cell_type": "markdown",
      "source": [
        "### Ordenar Listas\n",
        "\n",
        "- `sort()`: Ordena una lista en su lugar (modifica la lista original).\n",
        "- `sorted()`: Devuelve una nueva lista ordenada sin modificar la original.\n",
        "\n",
        "```python\n",
        "mi_lista = [3, 1, 4, 1, 5, 9, 2, 6, 5, 3, 5]\n",
        "mi_lista.sort()  # Ordena la lista en su lugar\n",
        "nueva_lista_ordenada = sorted(mi_lista)  # Crea una nueva lista ordenada sin modificar la original\n",
        "```"
      ],
      "metadata": {
        "id": "CPBpXr4YTLaD"
      }
    },
    {
      "cell_type": "code",
      "source": [
        "mi_lista = [3, 1, 4, 1, 5, 9, 2, 6, 5, 3, 5]\n",
        "mi_lista.sort()  # Ordena la lista en su lugar\n",
        "mi_lista"
      ],
      "metadata": {
        "colab": {
          "base_uri": "https://localhost:8080/"
        },
        "id": "8gv227W8rsWz",
        "outputId": "cb788691-260b-435d-c303-a62af94eb9b9"
      },
      "execution_count": null,
      "outputs": [
        {
          "output_type": "execute_result",
          "data": {
            "text/plain": [
              "[1, 1, 2, 3, 3, 4, 5, 5, 5, 6, 9]"
            ]
          },
          "metadata": {},
          "execution_count": 28
        }
      ]
    },
    {
      "cell_type": "code",
      "source": [
        "mi_lista = [3, 1, 4, 1, 5, 9, 2, 6, 5, 3, 5]\n",
        "\n",
        "nueva_lista_ordenada = sorted(mi_lista)  # Crea una nueva lista ordenada sin modificar la original\n",
        "nueva_lista_ordenada"
      ],
      "metadata": {
        "colab": {
          "base_uri": "https://localhost:8080/"
        },
        "id": "Fv8UXR2UVGXX",
        "outputId": "41cae435-c83b-4e6b-8213-fc0b9841d9f2"
      },
      "execution_count": null,
      "outputs": [
        {
          "output_type": "execute_result",
          "data": {
            "text/plain": [
              "[1, 1, 2, 3, 3, 4, 5, 5, 5, 6, 9]"
            ]
          },
          "metadata": {},
          "execution_count": 29
        }
      ]
    },
    {
      "cell_type": "code",
      "source": [
        "mi_lista"
      ],
      "metadata": {
        "colab": {
          "base_uri": "https://localhost:8080/"
        },
        "id": "dNrKgf95I5GK",
        "outputId": "48fe7dcd-c60c-4788-f994-0f45e2f36219"
      },
      "execution_count": null,
      "outputs": [
        {
          "output_type": "execute_result",
          "data": {
            "text/plain": [
              "[3, 1, 4, 1, 5, 9, 2, 6, 5, 3, 5]"
            ]
          },
          "metadata": {},
          "execution_count": 30
        }
      ]
    },
    {
      "cell_type": "markdown",
      "source": [
        "## Iteración a Través de una Lista\n",
        "\n",
        "Puedes recorrer los elementos de una lista utilizando un bucle `for`. Esto te permite realizar una acción en cada elemento de la lista. Por ejemplo:\n",
        "\n",
        "```python\n",
        "mi_lista = [10, 20, 30, 40, 50]\n",
        "for elemento in mi_lista:\n",
        "    print(elemento)  # Imprimirá cada elemento en una línea separada\n",
        "```"
      ],
      "metadata": {
        "id": "Kx0DDWj_TOD_"
      }
    },
    {
      "cell_type": "code",
      "source": [
        "mi_lista = [10, 20, 30, 40, 50]\n",
        "for elemento in mi_lista:\n",
        "    print(elemento)  # Imprimirá cada elemento en una línea separada"
      ],
      "metadata": {
        "colab": {
          "base_uri": "https://localhost:8080/"
        },
        "id": "Nu25eBUkVJhq",
        "outputId": "9fe1c5bf-9407-44c9-e03c-52260e1d935f"
      },
      "execution_count": null,
      "outputs": [
        {
          "output_type": "stream",
          "name": "stdout",
          "text": [
            "10\n",
            "20\n",
            "30\n",
            "40\n",
            "50\n"
          ]
        }
      ]
    },
    {
      "cell_type": "markdown",
      "source": [
        "## Métodos de Listas\n",
        "\n",
        "Las listas en Python tienen una variedad de métodos incorporados que facilitan la manipulación de datos. Algunos de los métodos más utilizados incluyen:\n",
        "\n",
        "- `append()`: Agrega un elemento al final de la lista.\n",
        "- `insert()`: Inserta un elemento en una posición específica.\n",
        "- `remove()`: Elimina la primera aparición de un elemento específico.\n",
        "- `pop()`: Elimina y devuelve el elemento\n",
        "\n",
        " en una posición dada.\n",
        "- `sort()`: Ordena la lista en su lugar.\n",
        "- `count()`: Cuenta cuántas veces aparece un elemento en la lista.\n",
        "- `index()`: Encuentra la primera posición de un elemento específico.\n",
        "- `reverse()`: Invierte el orden de los elementos en la lista.\n",
        "\n",
        "```python\n",
        "mi_lista = [3, 1, 4, 1, 5, 9, 2, 6, 5, 3, 5]\n",
        "mi_lista.append(7)  # Agrega 7 al final de la lista\n",
        "mi_lista.insert(2, 8)  # Inserta 8 en la posición 2\n",
        "mi_lista.remove(4)  # Elimina la primera aparición de 4\n",
        "elemento_eliminado = mi_lista.pop(3)  # Elimina el elemento en la posición 3 (1) y lo devuelve\n",
        "mi_lista.sort()  # Ordena la lista en su lugar\n",
        "conteo_cinco = mi_lista.count(5)  # Cuenta cuántas veces aparece el 5\n",
        "posicion_nueve = mi_lista.index(9)  # Encuentra la posición del 9\n",
        "mi_lista.reverse()  # Invierte el orden de los elementos\n",
        "```"
      ],
      "metadata": {
        "id": "1YQBxnk9TRBj"
      }
    },
    {
      "cell_type": "code",
      "source": [
        "mi_lista = [3, 1, 4, 1, 5, 9, 2, 6, 5, 3, 5]\n",
        "mi_lista.append(7)  # Agrega 7 al final de la lista\n",
        "mi_lista.insert(2, 8)  # Inserta 8 en la posición 2\n",
        "mi_lista.remove(4)  # Elimina la primera aparición de 4\n",
        "elemento_eliminado = mi_lista.pop(3)  # Elimina el elemento en la posición 3 (1) y lo devuelve\n",
        "mi_lista.sort()  # Ordena la lista en su lugar\n",
        "conteo_cinco = mi_lista.count(5)  # Cuenta cuántas veces aparece el 5\n",
        "posicion_nueve = mi_lista.index(9)  # Encuentra la posición del 9\n",
        "mi_lista.reverse()  # Invierte el orden de los elementos\n",
        "mi_lista"
      ],
      "metadata": {
        "colab": {
          "base_uri": "https://localhost:8080/"
        },
        "id": "zpJe-o3MVRBz",
        "outputId": "4fd02c4e-fb89-40ed-a60d-9781dbd9c6b0"
      },
      "execution_count": null,
      "outputs": [
        {
          "output_type": "execute_result",
          "data": {
            "text/plain": [
              "[9, 8, 7, 6, 5, 5, 5, 3, 3, 2, 1]"
            ]
          },
          "metadata": {},
          "execution_count": 32
        }
      ]
    },
    {
      "cell_type": "markdown",
      "source": [
        "## Listas Anidadas\n",
        "\n",
        "Python permite crear listas dentro de listas, lo que se conoce como listas anidadas o listas multidimensionales. Esto es útil cuando necesitas representar estructuras de datos más complejas. Por ejemplo:\n",
        "\n",
        "```python\n",
        "matriz = [[1, 2, 3], [4, 5, 6], [7, 8, 9]]\n",
        "```\n",
        "\n",
        "En este caso, `matriz` es una lista que contiene tres listas internas, creando una matriz 3x3. Puedes acceder a los elementos de la matriz utilizando dos niveles de índices:\n",
        "\n",
        "```python\n",
        "elemento = matriz[1][2]  # Acceder al elemento en la segunda fila (índice 1) y tercera columna (índice 2)\n",
        "```"
      ],
      "metadata": {
        "id": "zgW2WmOZTUoz"
      }
    },
    {
      "cell_type": "code",
      "source": [
        "matriz = [[1, 2, 3], [4, 5, 6], [7, 8, 9]]\n",
        "elemento = matriz[1][2]  # Acceder al elemento en la segunda fila (índice 1) y tercera columna (índice 2)\n",
        "elemento"
      ],
      "metadata": {
        "colab": {
          "base_uri": "https://localhost:8080/"
        },
        "id": "tt7pekYpVY5m",
        "outputId": "de45f6a4-d9b4-4c2f-d883-68581f856179"
      },
      "execution_count": null,
      "outputs": [
        {
          "output_type": "execute_result",
          "data": {
            "text/plain": [
              "6"
            ]
          },
          "metadata": {},
          "execution_count": 33
        }
      ]
    },
    {
      "cell_type": "markdown",
      "source": [
        "# Estructuras de Datos en Python: Tuplas\n",
        "\n",
        "Las tuplas son una estructura de datos en Python muy similar a las listas, pero con una característica fundamental: son inmutables. Esto significa que una vez que se crea una tupla, no se pueden modificar sus elementos. En este tutorial, exploraremos en detalle las tuplas en Python, incluyendo su definición, creación, acceso a elementos y cómo se diferencian de las listas.\n",
        "\n",
        "## Definición de Tuplas\n",
        "\n",
        "Una tupla es una colección ordenada de elementos que pueden ser de diferentes tipos, al igual que las listas. La principal diferencia radica en su inmutabilidad. Las tuplas se definen utilizando paréntesis `()` o simplemente separando los elementos con comas. Veamos un ejemplo de cómo se ve una tupla en Python:\n",
        "\n",
        "```python\n",
        "mi_tupla = (1, 2, 3, \"cuatro\")\n",
        "```\n",
        "\n",
        "En este caso, `mi_tupla` es una tupla que contiene números enteros y una cadena de texto. Aunque los paréntesis son opcionales, es común usarlos para definir tuplas, ya que ayudan a que el código sea más claro."
      ],
      "metadata": {
        "id": "-I-j3a3kX1sU"
      }
    },
    {
      "cell_type": "markdown",
      "source": [
        "## Creación de Tuplas\n",
        "\n",
        "Las tuplas se pueden crear de varias formas en Python, similar a las listas. Algunas de las formas comunes de crear tuplas incluyen:\n",
        "\n",
        "### Usando Paréntesis\n",
        "\n",
        "Puedes definir una tupla utilizando paréntesis `()` y separando los elementos con comas:\n",
        "\n",
        "```python\n",
        "mi_tupla = (1, 2, 3)\n",
        "```"
      ],
      "metadata": {
        "id": "m7Cjyg0bYIGV"
      }
    },
    {
      "cell_type": "markdown",
      "source": [
        "### Sin Paréntesis\n",
        "\n",
        "También puedes definir una tupla sin paréntesis, simplemente separando los elementos con comas:\n",
        "\n",
        "```python\n",
        "mi_tupla = 1, 2, 3\n",
        "```\n",
        "\n",
        "### Usando la Función `tuple()`\n",
        "\n",
        "La función `tuple()` se puede utilizar para crear una tupla a partir de una lista u otra secuencia:\n",
        "\n",
        "```python\n",
        "mi_lista = [1, 2, 3]\n",
        "tupla_desde_lista = tuple(mi_lista)\n",
        "```"
      ],
      "metadata": {
        "id": "GzNjNRqjYLHw"
      }
    },
    {
      "cell_type": "code",
      "source": [
        "mi_lista = [1, 2, 3]\n",
        "tupla_desde_lista = tuple(mi_lista)\n",
        "tupla_desde_lista"
      ],
      "metadata": {
        "colab": {
          "base_uri": "https://localhost:8080/"
        },
        "id": "15dQKlYrYmPX",
        "outputId": "4dcde9fe-7281-468b-c29f-b1f36dda5785"
      },
      "execution_count": null,
      "outputs": [
        {
          "output_type": "execute_result",
          "data": {
            "text/plain": [
              "(1, 2, 3)"
            ]
          },
          "metadata": {},
          "execution_count": 39
        }
      ]
    },
    {
      "cell_type": "markdown",
      "source": [
        "## Acceso a Elementos de una Tupla\n",
        "\n",
        "Para acceder a los elementos de una tupla, se utiliza la misma notación de índice que se utiliza con las listas. Los índices en Python comienzan en 0. Por ejemplo:\n",
        "\n",
        "```python\n",
        "mi_tupla = (10, 20, 30, 40, 50)\n",
        "primer_elemento = mi_tupla[0]  # Acceder al primer elemento (10)\n",
        "segundo_elemento = mi_tupla[1]  # Acceder al segundo elemento (20)\n",
        "```\n",
        "\n",
        "También puedes utilizar índices negativos para acceder a los elementos desde el final de la tupla, al igual que con las listas:\n",
        "\n",
        "```python\n",
        "ultimo_elemento = mi_tupla[-1]  # Acceder al último elemento (50)\n",
        "penultimo_elemento = mi_tupla[-2]  # Acceder al penúltimo elemento (40)\n",
        "```\n",
        "\n"
      ],
      "metadata": {
        "id": "EWyR9QW5YPK-"
      }
    },
    {
      "cell_type": "code",
      "source": [
        "mi_tupla = (10, 20, 30, 40, 50)\n",
        "primer_elemento = mi_tupla[0]  # Acceder al primer elemento (10)\n",
        "primer_elemento"
      ],
      "metadata": {
        "colab": {
          "base_uri": "https://localhost:8080/"
        },
        "id": "4rdC--IgY6RX",
        "outputId": "1ac45c1d-a326-427a-83d7-ade6d2857118"
      },
      "execution_count": null,
      "outputs": [
        {
          "output_type": "execute_result",
          "data": {
            "text/plain": [
              "10"
            ]
          },
          "metadata": {},
          "execution_count": 34
        }
      ]
    },
    {
      "cell_type": "code",
      "source": [
        "mi_tupla = (10, 20, 30, 40, 50)\n",
        "elemento = mi_tupla[2]\n",
        "elemento"
      ],
      "metadata": {
        "colab": {
          "base_uri": "https://localhost:8080/"
        },
        "id": "72dbUopbz_3c",
        "outputId": "f94b4be3-c492-4baa-aa34-f2a9e42273f6"
      },
      "execution_count": null,
      "outputs": [
        {
          "output_type": "execute_result",
          "data": {
            "text/plain": [
              "30"
            ]
          },
          "metadata": {},
          "execution_count": 35
        }
      ]
    },
    {
      "cell_type": "markdown",
      "source": [
        "## Características de las Tuplas (Inmutabilidad)\n",
        "\n",
        "La característica clave de las tuplas es su inmutabilidad. Una vez que se crea una tupla, sus elementos no pueden modificarse. Intentar cambiar un elemento de una tupla resultará en un error. Por ejemplo:\n",
        "\n",
        "```python\n",
        "mi_tupla = (1, 2, 3)\n",
        "mi_tupla[1] = 5  # Esto generará un error porque las tuplas son inmutables\n",
        "```\n",
        "\n",
        "Esta inmutabilidad hace que las tuplas sean adecuadas para representar valores que no deben cambiar, como las coordenadas de un punto en un plano o las claves de un diccionario."
      ],
      "metadata": {
        "id": "__e-wVfZYSvq"
      }
    },
    {
      "cell_type": "code",
      "source": [
        "mi_tupla = (1, 2, 3)\n",
        "#mi_tupla[1] = 5  # Esto generará un error porque las tuplas son inmutables"
      ],
      "metadata": {
        "id": "yUR0D0oiZPzG"
      },
      "execution_count": null,
      "outputs": []
    },
    {
      "cell_type": "markdown",
      "source": [
        "## Desempaquetado de Tuplas\n",
        "\n",
        "Una característica útil de las tuplas es el desempaquetado. Esto te permite asignar los elementos de una tupla a variables individuales de una manera sencilla. Por ejemplo:\n",
        "\n",
        "```python\n",
        "coordenadas = (3, 4)\n",
        "x, y = coordenadas  # Desempaquetar la tupla en las variables x e y\n",
        "```\n",
        "\n",
        "Ahora, `x` contendrá 3 y `y` contendrá 4. Esto es especialmente útil cuando una función devuelve múltiples valores como una tupla y deseas asignar esos valores a variables separadas."
      ],
      "metadata": {
        "id": "U8j-5yjSYaM2"
      }
    },
    {
      "cell_type": "code",
      "source": [
        "# Definir una tupla con coordenadas (3, 4)\n",
        "coordenadas = (3, 4)\n",
        "\n",
        "# Desempaquetar la tupla en las variables x e y\n",
        "x, y = coordenadas\n",
        "\n",
        "# Imprimir los valores de x e y\n",
        "print(\"Valor de x:\", x)\n",
        "print(\"Valor de y:\", y)\n"
      ],
      "metadata": {
        "colab": {
          "base_uri": "https://localhost:8080/"
        },
        "id": "wbPS8_JWZadr",
        "outputId": "dbb0b74e-93a8-431f-ce4c-fbaf88025ec8"
      },
      "execution_count": null,
      "outputs": [
        {
          "output_type": "stream",
          "name": "stdout",
          "text": [
            "Valor de x: 3\n",
            "Valor de y: 4\n"
          ]
        }
      ]
    },
    {
      "cell_type": "code",
      "source": [
        "coordenadas"
      ],
      "metadata": {
        "colab": {
          "base_uri": "https://localhost:8080/"
        },
        "id": "FYs4bG3800Nd",
        "outputId": "dc99ac0c-6725-453c-e459-67764e8e1040"
      },
      "execution_count": null,
      "outputs": [
        {
          "output_type": "execute_result",
          "data": {
            "text/plain": [
              "(3, 4)"
            ]
          },
          "metadata": {},
          "execution_count": 39
        }
      ]
    },
    {
      "cell_type": "markdown",
      "source": [
        "## Conversión entre Listas y Tuplas\n",
        "\n",
        "Es común necesitar convertir entre listas y tuplas en Python. Afortunadamente, esto se puede hacer fácilmente utilizando las funciones `list()` y `tuple()`. Aquí hay ejemplos de cómo hacerlo:\n",
        "\n",
        "### Convertir una Lista en una Tupla\n",
        "\n",
        "```python\n",
        "mi_lista = [1, 2, 3]\n",
        "mi_tupla = tuple(mi_lista)\n",
        "```\n",
        "\n",
        "En este caso, `mi_lista` es una lista y `mi_tupla` es una tupla que contiene los mismos elementos."
      ],
      "metadata": {
        "id": "61rIkP7LYdpQ"
      }
    },
    {
      "cell_type": "code",
      "source": [
        "# Definir una lista con coordenadas [3, 4]\n",
        "mi_lista = [3, 4]\n",
        "\n",
        "# Convertir la lista en una tupla\n",
        "mi_tupla = tuple(mi_lista)\n",
        "\n",
        "# Desempaquetar la tupla en las variables x e y\n",
        "x, y = mi_tupla\n",
        "\n",
        "# Imprimir los valores de x e y\n",
        "print(\"Tipo de dato de mi_lista:\", type(mi_lista))\n",
        "print(\"Tipo de dato de mi_tupla:\", type(mi_tupla))\n",
        "print(\"Valor de x:\", x)\n",
        "print(\"Valor de y:\", y)\n"
      ],
      "metadata": {
        "colab": {
          "base_uri": "https://localhost:8080/"
        },
        "id": "ykNv-GTmZ5cA",
        "outputId": "c6e160a0-0ff2-4988-db93-41e49ba13377"
      },
      "execution_count": null,
      "outputs": [
        {
          "output_type": "stream",
          "name": "stdout",
          "text": [
            "Tipo de dato de mi_lista: <class 'list'>\n",
            "Tipo de dato de mi_tupla: <class 'tuple'>\n",
            "Valor de x: 3\n",
            "Valor de y: 4\n"
          ]
        }
      ]
    },
    {
      "cell_type": "markdown",
      "source": [
        "### Convertir una Tupla en una Lista\n",
        "\n",
        "```python\n",
        "mi_tupla = (4, 5, 6)\n",
        "mi_lista = list(mi_tupla)\n",
        "```\n",
        "\n",
        "Aquí, `mi_tupla` es una tupla y `mi_lista` es una lista con los mismos elementos.\n",
        "\n",
        "Las tuplas en Python son una estructura de datos útil y versátil que se utiliza cuando se necesita una colección ordenada de elementos que no debe modificarse. Son similares a las listas en muchos aspectos, pero su inmutabilidad es su característica más destacada. Las tuplas son ideales para representar datos que no cambian, como las claves de un diccionario o las coordenadas de un punto en un plano. Además, el desempaquetado de tuplas y la conversión entre listas y tuplas hacen que sean una herramienta flexible en la programación de Python."
      ],
      "metadata": {
        "id": "a-w_QpEyYhDO"
      }
    },
    {
      "cell_type": "code",
      "source": [
        "# Definir una tupla con elementos (4, 5, 6)\n",
        "mi_tupla = (4, 5, 6)\n",
        "\n",
        "# Convertir la tupla en una lista\n",
        "mi_lista = list(mi_tupla)\n",
        "\n",
        "# Imprimir el tipo de dato de mi_tupla y mi_lista\n",
        "print(\"Tipo de dato de mi_tupla:\", type(mi_tupla))\n",
        "print(\"Tipo de dato de mi_lista:\", type(mi_lista))\n",
        "\n",
        "# Imprimir mi_lista para ver su contenido\n",
        "print(\"Contenido de mi_lista:\", mi_lista)\n"
      ],
      "metadata": {
        "colab": {
          "base_uri": "https://localhost:8080/"
        },
        "id": "-PAZud40aGyY",
        "outputId": "20c624d6-9090-429e-efa0-e2828af9f276"
      },
      "execution_count": null,
      "outputs": [
        {
          "output_type": "stream",
          "name": "stdout",
          "text": [
            "Tipo de dato de mi_tupla: <class 'tuple'>\n",
            "Tipo de dato de mi_lista: <class 'list'>\n",
            "Contenido de mi_lista: [4, 5, 6]\n"
          ]
        }
      ]
    },
    {
      "cell_type": "markdown",
      "source": [
        "# Bucle `while` en Python\n",
        "**1. Introducción al bucle while:**\n",
        "\n",
        "El bucle `while` se utiliza para repetir un bloque de código mientras una condición sea True. El bloque de código se ejecuta repetidamente hasta que la condición se vuelva False.\n",
        "\n",
        "**2. Sintaxis del bucle while:**\n",
        "\n",
        "La sintaxis básica del bucle `while` en Python es la siguiente:\n",
        "\n",
        "```python\n",
        "while condicion:\n",
        "    # Código a ejecutar mientras la condición sea True\n",
        "```\n",
        "\n",
        "**3. Ejemplo de uso del bucle while:**\n",
        "\n",
        "```python\n",
        "# Ejemplo de bucle while: Contador de 1 a 5\n",
        "contador = 1  # Inicializamos el contador en 1\n",
        "\n",
        "while contador <= 5:  # Mientras el contador sea menor o igual a 5\n",
        "    print(contador)  # Imprimimos el valor del contador\n",
        "    contador += 1  # Incrementamos el contador en 1 en cada iteración\n",
        "```\n",
        "\n",
        "Este bucle imprimirá los números del 1 al 5, ya que la condición `contador <= 5` se cumple inicialmente y se repite mientras sea verdadera.\n",
        "\n",
        "**4. Cómo controlar el flujo con condiciones en un bucle while:**\n",
        "\n",
        "Puedes utilizar condiciones dentro de un bucle `while` para controlar su comportamiento. Por ejemplo, puedes utilizar una instrucción `if` para interrumpir el bucle en ciertas condiciones:\n",
        "\n",
        "```python\n",
        "# Ejemplo de bucle while con control de flujo\n",
        "numero = 1\n",
        "\n",
        "while numero <= 10:\n",
        "    if numero % 2 == 0:\n",
        "        print(numero, \"es par\")\n",
        "    else:\n",
        "        print(numero, \"es impar\")\n",
        "    numero += 1\n",
        "```\n",
        "\n",
        "En este ejemplo, el bucle `while` se ejecuta de 1 a 10, y dentro del bucle, comprobamos si el número es par o impar y lo imprimimos en consecuencia.\n",
        "\n",
        "**5. Cómo evitar bucles infinitos en un bucle while:**\n",
        "\n",
        "Es importante tener cuidado para evitar bucles infinitos en un bucle `while`, lo que significa que la condición nunca se vuelve False. Puedes evitar esto asegurándote de que la condición eventualmente cambie a False dentro del bucle. Por ejemplo:\n",
        "\n",
        "```python\n",
        "# Ejemplo de bucle while con salida\n",
        "contador = 1\n",
        "\n",
        "while contador <= 10:\n",
        "    print(contador)\n",
        "    contador += 1\n",
        "\n",
        "# Si olvidamos incrementar 'contador', el bucle se ejecutará indefinidamente.\n",
        "# Para evitar bucles infinitos, asegúrate de que la condición cambie eventualmente.\n",
        "```\n",
        "\n",
        "En este caso, `contador` se incrementa en cada iteración, lo que garantiza que la condición `contador <= 10` se volverá False en algún momento."
      ],
      "metadata": {
        "id": "I9D3FqqsGwPq"
      }
    },
    {
      "cell_type": "code",
      "source": [
        "# Ejemplo de bucle while en Python\n",
        "\n",
        "# Introducción al bucle while:\n",
        "# El bucle while se utiliza para repetir un bloque de código mientras una condición sea True.\n",
        "\n",
        "# Inicializamos una variable contador en 1.\n",
        "contador = 1\n",
        "\n",
        "# Sintaxis del bucle while:\n",
        "# La estructura básica de un bucle while es: while condicion:\n",
        "# El código dentro del bucle se ejecutará mientras la condición sea True.\n",
        "while contador <= 5:  # La condición: mientras el contador sea menor o igual a 5.\n",
        "    # Código a ejecutar mientras la condición sea True.\n",
        "\n",
        "    # Imprimimos el valor del contador.\n",
        "    print(contador)\n",
        "\n",
        "    # Incrementamos el contador en 1 en cada iteración.\n",
        "    contador += 1\n",
        "\n",
        "# El bucle imprimirá los números del 1 al 5.\n",
        "# La condición 'contador <= 5' se verifica antes de cada iteración.\n",
        "# Cuando el contador llega a 6, la condición se vuelve False y el bucle termina."
      ],
      "metadata": {
        "colab": {
          "base_uri": "https://localhost:8080/"
        },
        "id": "N1wfdnqnHNzl",
        "outputId": "3db1a03d-6a9e-4b71-c3de-a144574a603c"
      },
      "execution_count": null,
      "outputs": [
        {
          "output_type": "stream",
          "name": "stdout",
          "text": [
            "1\n",
            "2\n",
            "3\n",
            "4\n",
            "5\n"
          ]
        }
      ]
    },
    {
      "cell_type": "code",
      "source": [
        "# Cómo controlar el flujo con condiciones en un bucle while:\n",
        "# Dentro del bucle while, puedes usar estructuras de control como 'if' para controlar el flujo.\n",
        "numero = 1\n",
        "\n",
        "while numero <= 10:\n",
        "    if numero % 2 == 0:\n",
        "        # Comprobamos si el número es par y lo imprimimos.\n",
        "        print(numero, \"es par\")\n",
        "    else:\n",
        "        # Si no es par, lo consideramos impar y lo imprimimos.\n",
        "        print(numero, \"es impar\")\n",
        "    numero += 1\n",
        "\n",
        "# Este bucle imprimirá números del 1 al 10 y etiquetará cada número como par o impar.\n",
        "\n",
        "# Cómo evitar bucles infinitos en un bucle while:\n",
        "# Para evitar bucles infinitos, asegúrate de que la condición cambie eventualmente.\n",
        "# Por ejemplo, incrementa una variable en cada iteración para que la condición eventualmente se vuelva False."
      ],
      "metadata": {
        "colab": {
          "base_uri": "https://localhost:8080/"
        },
        "id": "xUQ8Ii4YHXfj",
        "outputId": "789580ed-19c2-4835-fe81-53535f0b9397"
      },
      "execution_count": null,
      "outputs": [
        {
          "output_type": "stream",
          "name": "stdout",
          "text": [
            "1 es impar\n",
            "2 es par\n",
            "3 es impar\n",
            "4 es par\n",
            "5 es impar\n",
            "6 es par\n",
            "7 es impar\n",
            "8 es par\n",
            "9 es impar\n",
            "10 es par\n"
          ]
        }
      ]
    },
    {
      "cell_type": "markdown",
      "source": [
        "# Bucle `for` en Python\n",
        "**1. Introducción al bucle for:**\n",
        "\n",
        "El bucle `for` en Python se utiliza para iterar sobre una secuencia de elementos, como listas, tuplas, cadenas de texto, diccionarios y más. Permite ejecutar un bloque de código para cada elemento en la secuencia.\n",
        "\n",
        "**2. Sintaxis del bucle for:**\n",
        "\n",
        "La sintaxis básica del bucle `for` en Python es la siguiente:\n",
        "\n",
        "```python\n",
        "for elemento in secuencia:\n",
        "    # Código a ejecutar para cada elemento en la secuencia\n",
        "```\n",
        "\n",
        "**3. Iteración sobre secuencias con un bucle for:**\n",
        "\n",
        "**Ejemplo de bucle `for` con una lista:**\n",
        "\n",
        "```python\n",
        "frutas = [\"manzana\", \"banana\", \"cereza\"]\n",
        "for fruta in frutas:\n",
        "    print(fruta)\n",
        "```\n",
        "\n",
        "En este ejemplo, el bucle `for` itera sobre la lista de frutas y muestra cada elemento en la secuencia.\n",
        "\n",
        "**4. Uso de la función `range()` en un bucle for:**\n",
        "\n",
        "La función `range()` genera una secuencia de números que se puede usar en un bucle `for`. Veamos un ejemplo:\n",
        "\n",
        "**Ejemplo de bucle `for` con `range()`:**\n",
        "\n",
        "```python\n",
        "for numero in range(1, 6):  # Genera números del 1 al 5 (5 no está incluido)\n",
        "    print(numero)\n",
        "```\n",
        "\n",
        "En este ejemplo, `range(1, 6)` genera una secuencia de números del 1 al 5, y el bucle `for` itera sobre esta secuencia.\n",
        "\n",
        "**5. Ejemplos de bucles `for` con diferentes casos de uso:**\n",
        "\n",
        "**Iteración sobre una cadena de texto:**\n",
        "\n",
        "```python\n",
        "palabra = \"Python\"\n",
        "for letra in palabra:\n",
        "    print(letra)\n",
        "```\n",
        "\n",
        "Este bucle `for` itera sobre una cadena de texto (en este caso, la palabra \"Python\") y muestra cada letra.\n",
        "\n",
        "**Iteración sobre un diccionario:**\n",
        "\n",
        "```python\n",
        "diccionario = {\"nombre\": \"Juan\", \"edad\": 30, \"ciudad\": \"Madrid\"}\n",
        "for clave, valor in diccionario.items():\n",
        "    print(f\"{clave}: {valor}\")\n",
        "```\n",
        "\n",
        "Este bucle `for` itera sobre las claves y valores de un diccionario y muestra ambas partes.\n",
        "\n",
        "**Iteración sobre una tupla de tuplas:**\n",
        "\n",
        "```python\n",
        "coordenadas = ((1, 2), (3, 4), (5, 6))\n",
        "for punto in coordenadas:\n",
        "    x, y = punto  # Desempaquetamos la tupla en variables x e y\n",
        "    print(f\"Coordenada ({x}, {y})\")\n",
        "```\n",
        "\n",
        "En este ejemplo, el bucle `for` itera sobre una tupla de tuplas y desempaqueta cada tupla en variables `x` e `y`."
      ],
      "metadata": {
        "id": "hiVqGflJHoH6"
      }
    },
    {
      "cell_type": "code",
      "source": [
        "# Ejemplos de bucles 'for' en Python\n",
        "\n",
        "# Introducción al bucle 'for':\n",
        "# El bucle 'for' se utiliza para iterar sobre secuencias de elementos como listas, tuplas, cadenas, diccionarios, etc.\n",
        "\n",
        "# Iteración sobre una lista:\n",
        "frutas = [\"manzana\", \"banana\", \"cereza\"]\n",
        "\n",
        "# Sintaxis del bucle 'for':\n",
        "# for elemento in secuencia:\n",
        "# El código dentro del bucle se ejecuta para cada elemento en la secuencia.\n",
        "for fruta in frutas:  # Para cada elemento (fruta) en la lista de frutas\n",
        "    # Código a ejecutar para cada elemento\n",
        "    print(fruta)  # Imprimimos cada fruta en la lista"
      ],
      "metadata": {
        "colab": {
          "base_uri": "https://localhost:8080/"
        },
        "id": "SrmwYVZNH-GM",
        "outputId": "6161705d-7d3e-403a-d996-0b4f0b8cbca2"
      },
      "execution_count": null,
      "outputs": [
        {
          "output_type": "stream",
          "name": "stdout",
          "text": [
            "manzana\n",
            "banana\n",
            "cereza\n"
          ]
        }
      ]
    },
    {
      "cell_type": "code",
      "source": [
        "# Uso de la función 'range()' en un bucle 'for':\n",
        "# La función 'range()' genera una secuencia de números que se pueden usar en un bucle 'for'.\n",
        "\n",
        "# Iteración sobre números del 1 al 5:\n",
        "for numero in range(1, 6):  # Genera números del 1 al 5 (6 no está incluido)\n",
        "    # Código a ejecutar para cada número en la secuencia generada por 'range()'\n",
        "    print(numero)  # Imprimimos cada número en la secuencia"
      ],
      "metadata": {
        "colab": {
          "base_uri": "https://localhost:8080/"
        },
        "id": "b0QcapKQIB2x",
        "outputId": "85cc73dc-c47c-4ca9-bbe6-e86a1e786ac6"
      },
      "execution_count": null,
      "outputs": [
        {
          "output_type": "stream",
          "name": "stdout",
          "text": [
            "1\n",
            "2\n",
            "3\n",
            "4\n",
            "5\n"
          ]
        }
      ]
    },
    {
      "cell_type": "code",
      "source": [
        "# Iteración sobre una cadena de texto:\n",
        "palabra = \"Python\"\n",
        "\n",
        "for letra in palabra:  # Para cada letra (carácter) en la cadena de texto\n",
        "    # Código a ejecutar para cada letra\n",
        "    print(letra)  # Imprimimos cada letra de la palabra"
      ],
      "metadata": {
        "colab": {
          "base_uri": "https://localhost:8080/"
        },
        "id": "NmTO4U7FIFt2",
        "outputId": "0a372509-f2fe-4067-d84b-c6219d95cb95"
      },
      "execution_count": null,
      "outputs": [
        {
          "output_type": "stream",
          "name": "stdout",
          "text": [
            "P\n",
            "y\n",
            "t\n",
            "h\n",
            "o\n",
            "n\n"
          ]
        }
      ]
    },
    {
      "cell_type": "code",
      "source": [
        "# Iteración sobre un diccionario:\n",
        "diccionario = {\"nombre\": \"Juan\", \"edad\": 30, \"ciudad\": \"Madrid\"}\n",
        "\n",
        "for clave, valor in diccionario.items():  # Para cada par clave-valor en el diccionario\n",
        "    # Código a ejecutar para cada par clave-valor\n",
        "    print(f\"{clave}: {valor}\")  # Imprimimos cada clave y su correspondiente valor"
      ],
      "metadata": {
        "colab": {
          "base_uri": "https://localhost:8080/"
        },
        "id": "e463hxDxIIce",
        "outputId": "0a69cf51-bca9-486d-b066-5f96e9d38c5d"
      },
      "execution_count": null,
      "outputs": [
        {
          "output_type": "stream",
          "name": "stdout",
          "text": [
            "nombre: Juan\n",
            "edad: 30\n",
            "ciudad: Madrid\n"
          ]
        }
      ]
    },
    {
      "cell_type": "code",
      "source": [
        "# Iteración sobre una tupla de tuplas:\n",
        "coordenadas = ((1, 2), (3, 4), (5, 6))\n",
        "\n",
        "for punto in coordenadas:  # Para cada tupla (punto) en la tupla de tuplas\n",
        "    # Desempaquetamos la tupla en variables 'x' e 'y'\n",
        "    x, y = punto\n",
        "    # Código a ejecutar para cada tupla\n",
        "    print(f\"Coordenada ({x}, {y})\")  # Imprimimos cada coordenada en formato (x, y)"
      ],
      "metadata": {
        "colab": {
          "base_uri": "https://localhost:8080/"
        },
        "id": "7TZCNRwdIKtu",
        "outputId": "aec5540b-4024-4ebe-f8eb-4b0db67150aa"
      },
      "execution_count": null,
      "outputs": [
        {
          "output_type": "stream",
          "name": "stdout",
          "text": [
            "Coordenada (1, 2)\n",
            "Coordenada (3, 4)\n",
            "Coordenada (5, 6)\n"
          ]
        }
      ]
    },
    {
      "cell_type": "markdown",
      "source": [
        "# Bucle `for` junto con la función `enumerate()` en Python\n",
        "\n",
        "**1. Bucle for con enumerate:**\n",
        "\n",
        "El bucle `for` con `enumerate()` se utiliza para iterar sobre una secuencia (como una lista o una tupla) y obtener tanto los índices como los valores de los elementos en esa secuencia. La función `enumerate()` devuelve un objeto iterable que produce pares de índice y valor en cada iteración.\n",
        "\n",
        "**Ejemplo de bucle for con enumerate en una lista:**\n",
        "\n",
        "```python\n",
        "frutas = [\"manzana\", \"banana\", \"cereza\"]\n",
        "\n",
        "# Usamos 'enumerate()' para obtener índices y valores en cada iteración.\n",
        "for indice, fruta in enumerate(frutas):\n",
        "    print(f\"Índice: {indice}, Valor: {fruta}\")\n",
        "```\n",
        "\n",
        "En este ejemplo, `enumerate(frutas)` produce pares (índice, valor) en cada iteración del bucle. Obtendrás una salida que muestra tanto el índice como el valor de cada elemento en la lista de frutas.\n",
        "\n",
        "**2. Bucle for con enumerate en una cadena de texto:**\n",
        "\n",
        "```python\n",
        "texto = \"Python\"\n",
        "\n",
        "# Usamos 'enumerate()' para obtener índices y caracteres en cada iteración.\n",
        "for indice, letra in enumerate(texto):\n",
        "    print(f\"Índice: {indice}, Carácter: {letra}\")\n",
        "```\n",
        "\n",
        "En este caso, estamos iterando sobre una cadena de texto y utilizando `enumerate()` para obtener tanto el índice como el carácter en cada posición de la cadena.\n",
        "\n",
        "**3. Bucle for con enumerate y ajuste del índice inicial:**\n",
        "\n",
        "```python\n",
        "colores = [\"rojo\", \"verde\", \"azul\"]\n",
        "\n",
        "# Usamos 'enumerate()' con un índice inicial de 1.\n",
        "for indice, color in enumerate(colores, start=1):\n",
        "    print(f\"Color {indice}: {color}\")\n",
        "```\n",
        "\n",
        "Aquí, además de mostrar índices y valores, hemos ajustado el índice inicial a 1 usando el argumento `start=1` en `enumerate()`. Esto cambia el primer índice de 0 a 1.\n",
        "\n",
        "**4. Bucle for con enumerate en un diccionario:**\n",
        "\n",
        "```python\n",
        "persona = {\"nombre\": \"Juan\", \"edad\": 30, \"ciudad\": \"Madrid\"}\n",
        "\n",
        "# Usamos 'enumerate()' en un diccionario para obtener pares clave-valor.\n",
        "for indice, (clave, valor) in enumerate(persona.items()):\n",
        "    print(f\"Índice: {indice}, Clave: {clave}, Valor: {valor}\")\n",
        "```\n",
        "\n",
        "En este ejemplo, estamos iterando sobre un diccionario y utilizando `enumerate()` para obtener pares clave-valor en cada iteración."
      ],
      "metadata": {
        "id": "4LQhMtCKIiPN"
      }
    },
    {
      "cell_type": "code",
      "source": [
        "# Ejemplos de bucles 'for' con 'enumerate()' en Python\n",
        "\n",
        "# Introducción al bucle 'for' con 'enumerate()':\n",
        "# El bucle 'for' con 'enumerate()' se utiliza para obtener índices y valores de una secuencia en Python.\n",
        "\n",
        "# Ejemplo de bucle 'for' con 'enumerate()' en una lista:\n",
        "frutas = [\"manzana\", \"banana\", \"cereza\"]\n",
        "\n",
        "# Usamos 'enumerate()' para obtener índices y valores en cada iteración.\n",
        "for indice, fruta in enumerate(frutas):\n",
        "    # Código a ejecutar para cada elemento (índice, valor) en la lista de frutas\n",
        "    print(f\"Índice: {indice}, Valor: {fruta}\")\n",
        "\n",
        "# El bucle 'for' con 'enumerate()' permite rastrear tanto el índice como el valor de cada elemento en la lista.\n"
      ],
      "metadata": {
        "colab": {
          "base_uri": "https://localhost:8080/"
        },
        "id": "TXVF9aNcIh1D",
        "outputId": "c1271e0c-041a-4d83-a554-ecae63832030"
      },
      "execution_count": null,
      "outputs": [
        {
          "output_type": "stream",
          "name": "stdout",
          "text": [
            "Índice: 0, Valor: manzana\n",
            "Índice: 1, Valor: banana\n",
            "Índice: 2, Valor: cereza\n"
          ]
        }
      ]
    },
    {
      "cell_type": "code",
      "source": [
        "# Ejemplo de bucle 'for' con 'enumerate()' en una cadena de texto:\n",
        "texto = \"Python\"\n",
        "\n",
        "# Usamos 'enumerate()' para obtener índices y caracteres en cada iteración.\n",
        "for indice, letra in enumerate(texto):\n",
        "    # Código a ejecutar para cada elemento (índice, carácter) en la cadena de texto\n",
        "    print(f\"Índice: {indice}, Carácter: {letra}\")\n",
        "\n",
        "# Este bucle itera sobre la cadena de texto y muestra el índice y el carácter en cada posición de la cadena."
      ],
      "metadata": {
        "colab": {
          "base_uri": "https://localhost:8080/"
        },
        "id": "Ekn9njoWI0O_",
        "outputId": "eec86f86-a8e1-4c7a-d800-6a3e374c1640"
      },
      "execution_count": null,
      "outputs": [
        {
          "output_type": "stream",
          "name": "stdout",
          "text": [
            "Índice: 0, Carácter: P\n",
            "Índice: 1, Carácter: y\n",
            "Índice: 2, Carácter: t\n",
            "Índice: 3, Carácter: h\n",
            "Índice: 4, Carácter: o\n",
            "Índice: 5, Carácter: n\n"
          ]
        }
      ]
    },
    {
      "cell_type": "code",
      "source": [
        "# Ejemplo de bucle 'for' con 'enumerate()' y ajuste del índice inicial:\n",
        "colores = [\"rojo\", \"verde\", \"azul\"]\n",
        "\n",
        "# Usamos 'enumerate()' con un índice inicial de 1.\n",
        "for indice, color in enumerate(colores, start=1):\n",
        "    # Código a ejecutar para cada elemento (índice, valor) en la lista de colores\n",
        "    print(f\"Color {indice}: {color}\")\n",
        "\n",
        "# Aquí, el índice inicial se ajusta a 1, lo que cambia el primer índice de 0 a 1."
      ],
      "metadata": {
        "colab": {
          "base_uri": "https://localhost:8080/"
        },
        "id": "fmpLmldsI28k",
        "outputId": "d3f3497f-37a7-4f47-eedb-844bd96232fe"
      },
      "execution_count": null,
      "outputs": [
        {
          "output_type": "stream",
          "name": "stdout",
          "text": [
            "Color 1: rojo\n",
            "Color 2: verde\n",
            "Color 3: azul\n"
          ]
        }
      ]
    },
    {
      "cell_type": "code",
      "source": [
        "# Ejemplo de bucle 'for' con 'enumerate()' en un diccionario:\n",
        "persona = {\"nombre\": \"Juan\", \"edad\": 30, \"ciudad\": \"Madrid\"}\n",
        "\n",
        "# Usamos 'enumerate()' en el diccionario para obtener pares clave-valor.\n",
        "for indice, (clave, valor) in enumerate(persona.items()):\n",
        "    # Código a ejecutar para cada elemento (índice, par clave-valor) en el diccionario\n",
        "    print(f\"Índice: {indice}, Clave: {clave}, Valor: {valor}\")\n",
        "\n",
        "# En este caso, 'enumerate()' nos permite rastrear tanto las claves como los valores en cada iteración del diccionario."
      ],
      "metadata": {
        "colab": {
          "base_uri": "https://localhost:8080/"
        },
        "id": "5r6igsSvI5tm",
        "outputId": "17db0edb-ca1d-4259-c183-9d21a8c93ebb"
      },
      "execution_count": null,
      "outputs": [
        {
          "output_type": "stream",
          "name": "stdout",
          "text": [
            "Índice: 0, Clave: nombre, Valor: Juan\n",
            "Índice: 1, Clave: edad, Valor: 30\n",
            "Índice: 2, Clave: ciudad, Valor: Madrid\n"
          ]
        }
      ]
    },
    {
      "cell_type": "markdown",
      "source": [
        "# Bucles `for` anidados en Python\n",
        "\n",
        "**1. Bucle for anidado:**\n",
        "\n",
        "Un bucle `for` anidado es un bucle que se encuentra dentro de otro bucle `for`. Esto significa que el bucle interno se ejecuta completamente en cada iteración del bucle externo. Se utiliza comúnmente para procesar elementos en estructuras de datos multidimensionales como listas de listas.\n",
        "\n",
        "**Ejemplo de bucle for anidado en una matriz:**\n",
        "\n",
        "```python\n",
        "matriz = [[1, 2, 3], [4, 5, 6], [7, 8, 9]]\n",
        "\n",
        "# Bucle externo: Itera sobre las filas de la matriz\n",
        "for fila in matriz:\n",
        "    # Bucle interno: Itera sobre los elementos de cada fila\n",
        "    for elemento in fila:\n",
        "        print(elemento)\n",
        "```\n",
        "\n",
        "En este ejemplo, el bucle externo itera sobre cada fila de la matriz, y el bucle interno itera sobre los elementos de cada fila. Esto imprimirá todos los elementos de la matriz uno por uno.\n",
        "\n",
        "**2. Bucle for anidado para tablas de multiplicar:**\n",
        "\n",
        "```python\n",
        "# Generar una tabla de multiplicar del 1 al 5\n",
        "for i in range(1, 6):\n",
        "    print(f\"Tabla de multiplicar del {i}:\")\n",
        "    \n",
        "    for j in range(1, 11):\n",
        "        resultado = i * j\n",
        "        print(f\"{i} x {j} = {resultado}\")\n",
        "    \n",
        "    print()  # Línea en blanco para separar las tablas\n",
        "```\n",
        "\n",
        "En este ejemplo, hay un bucle externo que genera tablas de multiplicar del 1 al 5, y un bucle interno que calcula los productos para cada tabla. El uso de bucles anidados permite generar múltiples tablas de multiplicar de manera organizada.\n",
        "\n",
        "**3. Bucle for anidado con listas de comprensión:**\n",
        "\n",
        "```python\n",
        "# Crear una matriz de 3x3 con listas de comprensión\n",
        "matriz = [[i * j for j in range(1, 4)] for i in range(1, 4)]\n",
        "\n",
        "# Imprimir la matriz\n",
        "for fila in matriz:\n",
        "    print(fila)\n",
        "```\n",
        "\n",
        "Este ejemplo utiliza listas de comprensión para crear una matriz de 3x3. El bucle externo crea las filas y el bucle interno llena cada fila con valores calculados. Luego, se imprime la matriz.\n",
        "\n",
        "**4. Bucle for anidado para encontrar combinaciones:**\n",
        "\n",
        "```python\n",
        "colores = [\"rojo\", \"verde\", \"azul\"]\n",
        "frutas = [\"manzana\", \"banana\", \"cereza\"]\n",
        "\n",
        "# Encontrar todas las combinaciones de color y fruta\n",
        "for color in colores:\n",
        "    for fruta in frutas:\n",
        "        print(f\"{color} {fruta}\")\n",
        "```\n",
        "\n",
        "En este ejemplo, los bucles anidados generan todas las posibles combinaciones de colores y frutas. Cada bucle externo e interno itera sobre su respectiva lista, y las combinaciones se imprimen."
      ],
      "metadata": {
        "id": "cm5EZQ6NJQvi"
      }
    },
    {
      "cell_type": "code",
      "source": [
        "# Ejemplos de bucles 'for' anidados en Python\n",
        "\n",
        "# Introducción a los bucles 'for' anidados:\n",
        "# Los bucles 'for' anidados son bucles que se encuentran dentro de otros bucles 'for'.\n",
        "# Se utilizan para procesar elementos en estructuras de datos multidimensionales o realizar operaciones repetitivas en varios niveles de datos.\n",
        "\n",
        "# Ejemplo de bucle 'for' anidado en una matriz:\n",
        "matriz = [[1, 2, 3], [4, 5, 6], [7, 8, 9]]\n",
        "\n",
        "# Bucle externo: Itera sobre las filas de la matriz\n",
        "for fila in matriz:\n",
        "    # Bucle interno: Itera sobre los elementos de cada fila\n",
        "    for elemento in fila:\n",
        "        # Código a ejecutar para cada elemento\n",
        "        print(elemento)\n",
        "\n",
        "# En este ejemplo, el bucle externo itera sobre cada fila de la matriz,\n",
        "# y el bucle interno itera sobre los elementos de cada fila.\n",
        "# Esto imprimirá todos los elementos de la matriz uno por uno."
      ],
      "metadata": {
        "colab": {
          "base_uri": "https://localhost:8080/"
        },
        "id": "Fo97vqZDJiJd",
        "outputId": "910e1c00-ef1a-479a-dc7a-4c8c6f088227"
      },
      "execution_count": null,
      "outputs": [
        {
          "output_type": "stream",
          "name": "stdout",
          "text": [
            "1\n",
            "2\n",
            "3\n",
            "4\n",
            "5\n",
            "6\n",
            "7\n",
            "8\n",
            "9\n"
          ]
        }
      ]
    },
    {
      "cell_type": "code",
      "source": [
        "# Ejemplo de bucle 'for' anidado para tablas de multiplicar:\n",
        "# Generamos tablas de multiplicar del 1 al 5\n",
        "for i in range(1, 6):\n",
        "    print(f\"Tabla de multiplicar del {i}:\")\n",
        "\n",
        "    # Bucle interno: Calcula los productos para cada tabla\n",
        "    for j in range(1, 11):\n",
        "        resultado = i * j\n",
        "        print(f\"{i} x {j} = {resultado}\")\n",
        "\n",
        "    # Imprimimos una línea en blanco para separar las tablas\n",
        "    print()\n",
        "\n",
        "# En este ejemplo, hay un bucle externo que genera tablas de multiplicar del 1 al 5,\n",
        "# y un bucle interno que calcula los productos para cada tabla.\n",
        "# El uso de bucles anidados permite generar múltiples tablas de multiplicar de manera organizada."
      ],
      "metadata": {
        "colab": {
          "base_uri": "https://localhost:8080/"
        },
        "id": "IPW0cnd7JnHD",
        "outputId": "61e8103c-66e5-495a-ecc0-f8c471cdc4be"
      },
      "execution_count": null,
      "outputs": [
        {
          "output_type": "stream",
          "name": "stdout",
          "text": [
            "Tabla de multiplicar del 1:\n",
            "1 x 1 = 1\n",
            "1 x 2 = 2\n",
            "1 x 3 = 3\n",
            "1 x 4 = 4\n",
            "1 x 5 = 5\n",
            "1 x 6 = 6\n",
            "1 x 7 = 7\n",
            "1 x 8 = 8\n",
            "1 x 9 = 9\n",
            "1 x 10 = 10\n",
            "\n",
            "Tabla de multiplicar del 2:\n",
            "2 x 1 = 2\n",
            "2 x 2 = 4\n",
            "2 x 3 = 6\n",
            "2 x 4 = 8\n",
            "2 x 5 = 10\n",
            "2 x 6 = 12\n",
            "2 x 7 = 14\n",
            "2 x 8 = 16\n",
            "2 x 9 = 18\n",
            "2 x 10 = 20\n",
            "\n",
            "Tabla de multiplicar del 3:\n",
            "3 x 1 = 3\n",
            "3 x 2 = 6\n",
            "3 x 3 = 9\n",
            "3 x 4 = 12\n",
            "3 x 5 = 15\n",
            "3 x 6 = 18\n",
            "3 x 7 = 21\n",
            "3 x 8 = 24\n",
            "3 x 9 = 27\n",
            "3 x 10 = 30\n",
            "\n",
            "Tabla de multiplicar del 4:\n",
            "4 x 1 = 4\n",
            "4 x 2 = 8\n",
            "4 x 3 = 12\n",
            "4 x 4 = 16\n",
            "4 x 5 = 20\n",
            "4 x 6 = 24\n",
            "4 x 7 = 28\n",
            "4 x 8 = 32\n",
            "4 x 9 = 36\n",
            "4 x 10 = 40\n",
            "\n",
            "Tabla de multiplicar del 5:\n",
            "5 x 1 = 5\n",
            "5 x 2 = 10\n",
            "5 x 3 = 15\n",
            "5 x 4 = 20\n",
            "5 x 5 = 25\n",
            "5 x 6 = 30\n",
            "5 x 7 = 35\n",
            "5 x 8 = 40\n",
            "5 x 9 = 45\n",
            "5 x 10 = 50\n",
            "\n"
          ]
        }
      ]
    },
    {
      "cell_type": "code",
      "source": [
        "# Ejemplo de bucle 'for' anidado con listas de comprensión:\n",
        "# Creamos una matriz de 3x3 con listas de comprensión\n",
        "matriz = [[i * j for j in range(1, 4)] for i in range(1, 4)]\n",
        "\n",
        "# Imprimimos la matriz\n",
        "for fila in matriz:\n",
        "    print(fila)\n",
        "\n",
        "# En este ejemplo, utilizamos listas de comprensión para crear una matriz de 3x3.\n",
        "# El bucle externo crea las filas y el bucle interno llena cada fila con valores calculados.\n",
        "# Luego, se imprime la matriz."
      ],
      "metadata": {
        "colab": {
          "base_uri": "https://localhost:8080/"
        },
        "id": "c_XvzrZQJquT",
        "outputId": "433299d2-a7f1-44a7-b85c-0c73982cd046"
      },
      "execution_count": null,
      "outputs": [
        {
          "output_type": "stream",
          "name": "stdout",
          "text": [
            "[1, 2, 3]\n",
            "[2, 4, 6]\n",
            "[3, 6, 9]\n"
          ]
        }
      ]
    },
    {
      "cell_type": "code",
      "source": [
        "# Ejemplo de bucle 'for' anidado para encontrar combinaciones:\n",
        "colores = [\"rojo\", \"verde\", \"azul\"]\n",
        "frutas = [\"manzana\", \"banana\", \"cereza\"]\n",
        "\n",
        "# Encontramos todas las combinaciones de color y fruta\n",
        "for color in colores:\n",
        "    for fruta in frutas:\n",
        "        # Código a ejecutar para cada combinación\n",
        "        print(f\"{color} {fruta}\")\n",
        "\n",
        "# En este ejemplo, los bucles anidados generan todas las posibles combinaciones de colores y frutas.\n",
        "# Cada bucle externo e interno itera sobre su respectiva lista, y las combinaciones se imprimen."
      ],
      "metadata": {
        "colab": {
          "base_uri": "https://localhost:8080/"
        },
        "id": "zHdZPZ_7JtJD",
        "outputId": "b69d46de-9bf7-4344-f9f0-2a0a4f974d21"
      },
      "execution_count": null,
      "outputs": [
        {
          "output_type": "stream",
          "name": "stdout",
          "text": [
            "rojo manzana\n",
            "rojo banana\n",
            "rojo cereza\n",
            "verde manzana\n",
            "verde banana\n",
            "verde cereza\n",
            "azul manzana\n",
            "azul banana\n",
            "azul cereza\n"
          ]
        }
      ]
    },
    {
      "cell_type": "markdown",
      "source": [
        "# Más sobre bucles\n",
        "\n",
        "**1. Instrucciones de control de bucles:**\n",
        "\n",
        "**Ejemplo de uso de `break` en un bucle:**\n",
        "\n",
        "```python\n",
        "# Utilizando 'break' para salir de un bucle cuando se encuentra el número 3\n",
        "numeros = [1, 2, 3, 4, 5]\n",
        "\n",
        "for numero in numeros:\n",
        "    if numero == 3:\n",
        "        print(\"Número 3 encontrado. Saliendo del bucle.\")\n",
        "        break\n",
        "    print(numero)\n",
        "```\n",
        "\n",
        "En este ejemplo, cuando el bucle encuentra el número 3, se ejecuta la instrucción `break`, lo que provoca la salida inmediata del bucle.\n",
        "\n",
        "**Ejemplo de uso de `continue` en un bucle:**\n",
        "\n",
        "```python\n",
        "# Utilizando 'continue' para omitir la iteración actual cuando se encuentra el número 3\n",
        "numeros = [1, 2, 3, 4, 5]\n",
        "\n",
        "for numero in numeros:\n",
        "    if numero == 3:\n",
        "        print(\"Número 3 encontrado. Saltando esta iteración.\")\n",
        "        continue\n",
        "    print(numero)\n",
        "```\n",
        "\n",
        "En este ejemplo, cuando el bucle encuentra el número 3, se ejecuta la instrucción `continue`, lo que provoca que la iteración actual se omita y se continúe con la siguiente.\n",
        "\n",
        "**2. Bucles Infinitos:**\n",
        "\n",
        "**Ejemplo de bucle infinito controlado con `break`:**\n",
        "\n",
        "```python\n",
        "# Bucle infinito que se controla con 'break' al contar hasta 5\n",
        "contador = 0\n",
        "\n",
        "while True:\n",
        "    print(contador)\n",
        "    contador += 1\n",
        "    \n",
        "    if contador == 5:\n",
        "        print(\"Alcanzamos 5. Saliendo del bucle.\")\n",
        "        break\n",
        "```\n",
        "\n",
        "Este ejemplo muestra un bucle `while` infinito que se controla con la instrucción `break` cuando el contador llega a 5. Sin esta instrucción de control, el bucle sería infinito.\n",
        "\n",
        "**Ejemplo de bucle infinito con entrada del usuario para controlar la salida:**\n",
        "\n",
        "```python\n",
        "# Bucle infinito que se controla con la entrada del usuario\n",
        "while True:\n",
        "    respuesta = input(\"¿Quieres salir del bucle? (s/n): \")\n",
        "    \n",
        "    if respuesta.lower() == 's':\n",
        "        print(\"Saliendo del bucle.\")\n",
        "        break\n",
        "    elif respuesta.lower() == 'n':\n",
        "        print(\"Continuando el bucle.\")\n",
        "    else:\n",
        "        print(\"Respuesta no válida. Inténtalo de nuevo.\")\n",
        "```\n",
        "\n",
        "En este ejemplo, el bucle `while` es infinito hasta que el usuario ingresa 's' para salir o 'n' para continuar. La entrada del usuario controla la salida del bucle.\n",
        "\n",
        "**Ejemplo de bucle infinito no controlado:**\n",
        "\n",
        "```python\n",
        "# Bucle infinito sin instrucción de control\n",
        "while True:\n",
        "    print(\"Este bucle es infinito y no tiene una forma de salir.\")\n",
        "```\n",
        "\n",
        "En este último ejemplo, el bucle `while` es infinito y no contiene ninguna instrucción de control para salir. Debes evitar bucles infinitos no controlados, ya que pueden bloquear la ejecución de un programa."
      ],
      "metadata": {
        "id": "t0jMekixKg81"
      }
    },
    {
      "cell_type": "code",
      "source": [
        "# Ejemplos de Instrucciones de Control y Bucles Infinitos en Python\n",
        "\n",
        "# --- Instrucciones de Control en Bucles ---\n",
        "\n",
        "# Ejemplo de uso de 'break' en un bucle:\n",
        "numeros = [1, 2, 3, 4, 5]\n",
        "\n",
        "for numero in numeros:\n",
        "    if numero == 3:\n",
        "        # Cuando se encuentra el número 3, 'break' se ejecuta.\n",
        "        print(\"Número 3 encontrado. Saliendo del bucle.\")\n",
        "        break  # La instrucción 'break' sale del bucle\n",
        "    # Se imprime cada número hasta que se encuentra el 3.\n",
        "    print(numero)"
      ],
      "metadata": {
        "colab": {
          "base_uri": "https://localhost:8080/"
        },
        "id": "L5C6IoEeKrhU",
        "outputId": "ad3d87c9-a00b-4512-f14d-29408e832315"
      },
      "execution_count": null,
      "outputs": [
        {
          "output_type": "stream",
          "name": "stdout",
          "text": [
            "1\n",
            "2\n",
            "Número 3 encontrado. Saliendo del bucle.\n"
          ]
        }
      ]
    },
    {
      "cell_type": "code",
      "source": [
        "# Ejemplo de uso de 'continue' en un bucle:\n",
        "numeros = [1, 2, 3, 4, 5]\n",
        "\n",
        "for numero in numeros:\n",
        "    if numero == 3:\n",
        "        # Cuando se encuentra el número 3, 'continue' se ejecuta.\n",
        "        print(\"Número 3 encontrado. Saltando esta iteración.\")\n",
        "        continue  # La instrucción 'continue' omite la iteración actual\n",
        "    # Se imprime cada número excepto el 3.\n",
        "    print(numero)"
      ],
      "metadata": {
        "colab": {
          "base_uri": "https://localhost:8080/"
        },
        "id": "reDAXPXcLCuz",
        "outputId": "41cc9dc9-3920-452e-ae2e-a61d812a2a6e"
      },
      "execution_count": null,
      "outputs": [
        {
          "output_type": "stream",
          "name": "stdout",
          "text": [
            "1\n",
            "2\n",
            "Número 3 encontrado. Saltando esta iteración.\n",
            "4\n",
            "5\n"
          ]
        }
      ]
    },
    {
      "cell_type": "code",
      "source": [
        "\n",
        "# --- Bucles Infinitos ---\n",
        "\n",
        "# Ejemplo de bucle infinito controlado con 'break':\n",
        "contador = 0\n",
        "\n",
        "while True:\n",
        "    # Imprimimos el contador en cada iteración.\n",
        "    print(contador)\n",
        "    contador += 1\n",
        "\n",
        "    if contador == 5:\n",
        "        # Cuando el contador llega a 5, 'break' se ejecuta.\n",
        "        print(\"Alcanzamos 5. Saliendo del bucle.\")\n",
        "        break  # 'break' se utiliza para salir del bucle\n",
        "# En este bucle 'while', 'break' se ejecuta cuando el contador llega a 5, lo que provoca la salida del bucle.\n"
      ],
      "metadata": {
        "colab": {
          "base_uri": "https://localhost:8080/"
        },
        "id": "D-0GJXKQLFfh",
        "outputId": "5899c654-2b68-4b0c-fb5c-fbcba7fc188d"
      },
      "execution_count": null,
      "outputs": [
        {
          "output_type": "stream",
          "name": "stdout",
          "text": [
            "0\n",
            "1\n",
            "2\n",
            "3\n",
            "4\n",
            "Alcanzamos 5. Saliendo del bucle.\n"
          ]
        }
      ]
    },
    {
      "cell_type": "code",
      "source": [
        "# Ejemplo de bucle infinito controlado con entrada del usuario:\n",
        "while True:\n",
        "    respuesta = input(\"¿Quieres salir del bucle? (s/n): \")\n",
        "\n",
        "    if respuesta.lower() == 's':\n",
        "        # Cuando el usuario ingresa 's', 'break' se ejecuta.\n",
        "        print(\"Saliendo del bucle.\")\n",
        "        break  # 'break' se utiliza para salir del bucle\n",
        "    elif respuesta.lower() == 'n':\n",
        "        print(\"Continuando el bucle.\")\n",
        "    else:\n",
        "        print(\"Respuesta no válida. Inténtalo de nuevo.\")\n",
        "\n",
        "# En este bucle 'while', 'break' se ejecuta cuando el usuario ingresa 's', permitiendo salir del bucle."
      ],
      "metadata": {
        "colab": {
          "base_uri": "https://localhost:8080/"
        },
        "id": "QOvT6V2fLImI",
        "outputId": "3c46be42-9853-44be-d71c-3b3caf38af9f"
      },
      "execution_count": null,
      "outputs": [
        {
          "output_type": "stream",
          "name": "stdout",
          "text": [
            "¿Quieres salir del bucle? (s/n): n\n",
            "Continuando el bucle.\n",
            "¿Quieres salir del bucle? (s/n): n\n",
            "Continuando el bucle.\n",
            "¿Quieres salir del bucle? (s/n): y\n",
            "Respuesta no válida. Inténtalo de nuevo.\n",
            "¿Quieres salir del bucle? (s/n): s\n",
            "Saliendo del bucle.\n"
          ]
        }
      ]
    },
    {
      "cell_type": "code",
      "source": [
        "# Ejemplo de bucle infinito no controlado:\n",
        "#while True:\n",
        "    # Este bucle es infinito y no tiene instrucción de control,\n",
        "    # por lo que se ejecutará indefinidamente hasta que se detenga manualmente.\n",
        "    #print(\"Este bucle es infinito y no tiene una forma de salir.\")"
      ],
      "metadata": {
        "id": "oTdoQ5K5LS8g"
      },
      "execution_count": null,
      "outputs": []
    },
    {
      "cell_type": "markdown",
      "source": [
        "# **Introducción a las Clases en Python**\n",
        "\n",
        "**Introducción a las Clases en Python**\n",
        "\n",
        "Las clases son una parte fundamental de la programación orientada a objetos (POO) en Python. La programación orientada a objetos es un paradigma de programación que se basa en la idea de \"objetos\", que son instancias de clases. Python es un lenguaje de programación que admite plenamente la POO y hace que sea fácil definir y utilizar clases.\n",
        "\n",
        "**¿Qué es una Clase?**\n",
        "\n",
        "En Python, una clase es una plantilla o un plano para crear objetos. Las clases definen las propiedades (atributos) y el comportamiento (métodos) que tendrán los objetos que se creen a partir de ellas. Una clase es como un plano de construcción para una casa: define cómo será la casa, pero no es la casa en sí misma.\n",
        "\n",
        "**Creación de una Clase**\n",
        "\n",
        "Para crear una clase en Python, se utiliza la palabra clave `class`, seguida del nombre de la clase. Por convención, los nombres de las clases suelen empezar con una letra mayúscula y utilizar la convención CamelCase (las palabras se escriben juntas y cada palabra comienza con mayúscula).\n",
        "\n",
        "\n",
        "```python\n",
        "class Persona:\n",
        "    pass\n",
        "```\n",
        "\n",
        "En este ejemplo, hemos creado una clase llamada `Persona`. Sin embargo, esta clase está vacía, no tiene atributos ni métodos definidos todavía.\n",
        "\n",
        "**Atributos de Clase y Atributos de Instancia**\n",
        "\n",
        "Las clases en Python pueden tener dos tipos de atributos: atributos de clase y atributos de instancia.\n",
        "\n",
        "- **Atributos de Clase:** Los atributos de clase son variables que pertenecen a la clase en su conjunto, en lugar de a una instancia específica de la clase. Se definen dentro de la clase pero fuera de cualquier método.\n",
        "\n",
        "- **Atributos de Instancia:** Los atributos de instancia son variables que pertenecen a una instancia particular de una clase. Cada instancia de la clase puede tener sus propios valores para estos atributos.\n",
        "\n",
        "**Métodos**\n",
        "\n",
        "Los métodos son funciones definidas dentro de una clase que representan el comportamiento de los objetos de esa clase. Los métodos pueden realizar acciones y operaciones relacionadas con los atributos de la clase. Los métodos se definen dentro de la clase y tienen acceso a los atributos y otros métodos de la misma.\n",
        "\n",
        "**Constructor (`__init__`)**\n",
        "\n",
        "El método `__init__` es un método especial en Python que se utiliza como constructor de una clase. El constructor se llama automáticamente cuando se crea una nueva instancia de la clase y se utiliza para inicializar los atributos de esa instancia. El constructor tiene al menos un parámetro llamado `self`, que hace referencia a la instancia que se está creando.\n",
        "\n",
        "```python\n",
        "class Persona:\n",
        "    def __init__(self, nombre, edad):\n",
        "        self.nombre = nombre\n",
        "        self.edad = edad\n",
        "```\n",
        "\n",
        "En este ejemplo, la clase `Persona` tiene un constructor que toma dos parámetros: `nombre` y `edad`. Estos parámetros se utilizan para inicializar los atributos de instancia `nombre` y `edad`.\n",
        "\n",
        "**Creación de Objetos**\n",
        "\n",
        "Una vez que hemos definido una clase, podemos crear objetos (instancias) a partir de ella. Para crear un objeto, simplemente llamamos al nombre de la clase seguido de paréntesis, como si estuviéramos llamando a una función. Esto invocará al constructor de la clase y creará una nueva instancia de la clase.\n",
        "\n",
        "```python\n",
        "persona1 = Persona(\"Alice\", 30)\n",
        "```\n",
        "\n",
        "Hemos creado una instancia llamada `persona1` de la clase `Persona` con el nombre \"Alice\" y la edad 30.\n",
        "\n",
        "**Acceso a Atributos de Instancia y Métodos**\n",
        "\n",
        "Una vez que hemos creado un objeto, podemos acceder a sus atributos de instancia y métodos utilizando la notación de punto (`objeto.atributo` o `objeto.metodo`).\n",
        "\n",
        "```python\n",
        "print(persona1.nombre)  # Acceder al atributo 'nombre'\n",
        "print(persona1.edad)    # Acceder al atributo 'edad'\n",
        "```\n",
        "\n",
        "Esto imprimirá el nombre y la edad de `persona1`.\n",
        "\n",
        "**Métodos de Clase y Métodos Estáticos**\n",
        "\n",
        "Además de los métodos de instancia, las clases en Python pueden tener otros tipos de métodos.\n",
        "\n",
        "- **Métodos de Clase:** Los métodos de clase se definen utilizando el decorador `@classmethod`. Estos métodos trabajan con atributos de clase y se llaman en la clase en lugar de en una instancia específica.\n",
        "\n",
        "- **Métodos Estáticos:** Los métodos estáticos se definen utilizando el decorador `@staticmethod`. Son métodos que no dependen de la instancia ni de la clase y no acceden a ningún atributo de instancia o de clase.\n",
        "\n",
        "```python\n",
        "class MiClase:\n",
        "    atributo_de_clase = 0\n",
        "    \n",
        "    def __init__(self, valor):\n",
        "        self.atributo_de_instancia = valor\n",
        "    \n",
        "    def metodo_de_instancia(self):\n",
        "        return self.atributo_de_instancia\n",
        "    \n",
        "    @classmethod\n",
        "    def metodo_de_clase(cls):\n",
        "        return cls.atributo_de_clase\n",
        "    \n",
        "    @staticmethod\n",
        "    def metodo_estatico():\n",
        "        return \"Este es un método estático\"\n",
        "```\n",
        "\n",
        "En este ejemplo, `metodo_de_clase` es un método de clase que devuelve el valor de `atributo_de_clase`, y `metodo_estatico` es un método estático que simplemente devuelve una cadena.\n",
        "\n",
        "**Herencia**\n",
        "\n",
        "Una de las características más poderosas de la POO es la herencia. La herencia permite que una clase herede atributos y métodos de otra clase. La clase que hereda se llama \"subclase\" o \"clase derivada\", y la clase de la que hereda se llama \"superclase\" o \"clase base\".\n",
        "\n",
        "Para crear una subclase, simplemente se especifica la superclase entre paréntesis en la definición de la subclase. La subclase hereda todos los atributos y métodos de la superclase y puede agregar sus propios atributos y métodos adicionales.\n",
        "\n",
        "```python\n",
        "class Animal:\n",
        "    def __init__(self, nombre):\n",
        "        self.nombre = nombre\n",
        "    \n",
        "    def hablar(self):\n",
        "        pass\n",
        "\n",
        "class Perro(Animal):\n",
        "    def hablar(self):\n",
        "        return \"¡Guau!\"\n",
        "\n",
        "class Gato(Animal):\n",
        "    def hablar(self):\n",
        "        return \"¡Miau!\"\n",
        "```\n",
        "\n",
        "En este ejemplo, hemos definido una clase base `Animal` con un constructor y un método `hablar`. Luego, hemos creado dos subclases, `Perro` y `Gato`, que heredan de la clase `Animal` y sobrescriben el método `hablar` para proporcionar su propia implementación.\n",
        "\n",
        "**Encapsulación**\n",
        "\n",
        "La encapsulación es un principio de la POO que se refiere a la ocultación de los detalles internos de una clase y la exposición de una interfaz pública para interactuar con la clase. En Python, la encapsulación se logra mediante la convención de nombres y el uso de atributos y métodos privados.\n",
        "\n",
        "- **Atributos Privados:** En Python, se utiliza un guion bajo antes del nombre de un atributo para indicar que es privado y no debe accederse directamente desde fuera de la clase. Por ejemplo, `_atributo_privado`.\n",
        "\n",
        "- **Métodos Privados:** De manera similar, se puede usar un guion bajo antes del nombre de un método para indicar que es privado y no debe llamarse directamente desde fuera de la clase. Por ejemplo, `_metodo_privado()`.\n",
        "\n",
        "A pesar de que los atributos y métodos privados no son realmente privados en el sentido de otros lenguajes, la convención de nombres sirve como una advertencia para que los desarrolladores no accedan directamente a ellos.\n",
        "\n",
        "**Ejemplo Completo de Clase en Python**\n",
        "\n",
        "```python\n",
        "class Empleado:\n",
        "    def __init__(self, nombre, salario):\n",
        "        self._nombre = nombre  # Atributo protegido\n",
        "        self.salario = salario\n",
        "    \n",
        "    # Método público para obtener el nombre\n",
        "    def obtener_nombre(self):\n",
        "        return self._nombre\n",
        "    \n",
        "    # Método público para establecer el nombre\n",
        "    def establecer_nombre(self, nuevo_nombre):\n",
        "        if len(nuevo_nombre) >= 3:\n",
        "            self._nombre = nuevo_nombre\n",
        "        else:\n",
        "            print(\"El nombre debe tener al menos 3 caracteres.\")\n",
        "    \n",
        "    def calcular_salario_anual(self):\n",
        "        return self.salario * 12\n",
        "\n",
        "class Gerente(Empleado):\n",
        "    def __init__(self, nombre, salario, bono):\n",
        "        super().__init__(nombre, salario)\n",
        "        self.bono = bono\n",
        "    \n",
        "    def calcular_salario_anual(self):\n",
        "        salario_base_anual = super().calcular_salario_anual()\n",
        "        return salario_base_anual + self.bono\n",
        "```\n",
        "\n",
        "En este ejemplo, hemos definido una clase `Empleado` con atributos de instancia `_nombre` y `salario`, y métodos para obtener y establecer el nombre. También hay un método para calcular el salario anual.\n",
        "\n",
        "Luego, hemos creado una subclase `Gerente` que hereda de `Empleado` y agrega un atributo `bono`. La subclase también sobrescribe el método `calcular_salario_anual` para incluir el bono.\n",
        "\n",
        "Las clases son una parte fundamental de la programación orientada a objetos en Python. Nos permiten definir plantillas para crear objetos y encapsular datos y comportamiento relacionados en una sola entidad. Con la herencia y la encapsulación, podemos crear jerarquías de clases y ocultar detalles internos, lo que hace que el código sea más modular y fácil de mantener.\n",
        "\n",
        "Este es solo un vistazo general a las clases en Python. Hay muchas más características y conceptos avanzados relacionados con las clases, como la herencia múltiple, las propiedades, los decoradores de clase, entre otros. Sin embargo, con esta introducción, deberías estar bien equipado para comenzar a trabajar con clases en Python y comprender cómo se utilizan en la programación orientada a objetos."
      ],
      "metadata": {
        "id": "Ekt4zW7lMt6L"
      }
    },
    {
      "cell_type": "code",
      "source": [
        "# Definición de una clase llamada \"Empleado\"\n",
        "class Empleado:\n",
        "    # El método constructor (__init__) se llama automáticamente al crear una instancia de la clase.\n",
        "    def __init__(self, nombre, salario):\n",
        "        # Atributo protegido (_nombre) que almacena el nombre del empleado.\n",
        "        self._nombre = nombre\n",
        "        # Atributo público (salario) que almacena el salario del empleado.\n",
        "        self.salario = salario\n",
        "\n",
        "    # Método público para obtener el nombre del empleado.\n",
        "    def obtener_nombre(self):\n",
        "        return self._nombre\n",
        "\n",
        "    # Método público para establecer el nombre del empleado con validación.\n",
        "    def establecer_nombre(self, nuevo_nombre):\n",
        "        # Validación: El nombre debe tener al menos 3 caracteres.\n",
        "        if len(nuevo_nombre) >= 3:\n",
        "            self._nombre = nuevo_nombre\n",
        "        else:\n",
        "            print(\"El nombre debe tener al menos 3 caracteres.\")\n",
        "\n",
        "    # Método público para calcular el salario anual del empleado.\n",
        "    def calcular_salario_anual(self):\n",
        "        return self.salario * 12\n",
        "\n",
        "# Definición de una subclase \"Gerente\" que hereda de la clase \"Empleado\"\n",
        "class Gerente(Empleado):\n",
        "    # El constructor de la subclase, que recibe nombre, salario y bono.\n",
        "    def __init__(self, nombre, salario, bono):\n",
        "        # Llamada al constructor de la superclase (Empleado) para inicializar nombre y salario.\n",
        "        super().__init__(nombre, salario)\n",
        "        # Atributo específico de la subclase (bono).\n",
        "        self.bono = bono\n",
        "\n",
        "    # Sobrescribiendo el método calcular_salario_anual de la superclase.\n",
        "    def calcular_salario_anual(self):\n",
        "        # Llamada al método de la superclase para obtener el salario base anual.\n",
        "        salario_base_anual = super().calcular_salario_anual()\n",
        "        # Se agrega el bono al salario base para calcular el salario anual del gerente.\n",
        "        return salario_base_anual + self.bono\n",
        "\n",
        "# Creación de una instancia de la clase Empleado\n",
        "empleado1 = Empleado(\"Alice\", 40000)\n",
        "\n",
        "# Acceso al atributo protegido \"_nombre\" a través de un método público.\n",
        "print(\"Nombre del empleado:\", empleado1.obtener_nombre())\n",
        "\n",
        "# Cambio del nombre del empleado a través de un método público con validación.\n",
        "empleado1.establecer_nombre(\"Bob\")\n",
        "\n",
        "# Intento de cambiar el nombre a uno que no cumple con la validación.\n",
        "empleado1.establecer_nombre(\"A\")\n",
        "\n",
        "# Acceso al atributo público \"salario\".\n",
        "print(\"Salario anual del empleado:\", empleado1.calcular_salario_anual())\n",
        "\n",
        "# Creación de una instancia de la subclase Gerente\n",
        "gerente1 = Gerente(\"Eva\", 60000, 10000)\n",
        "\n",
        "# Acceso al atributo protegido \"_nombre\" de la subclase.\n",
        "print(\"Nombre del gerente:\", gerente1.obtener_nombre())\n",
        "\n",
        "# Acceso al atributo específico de la subclase \"bono\".\n",
        "print(\"Bono del gerente:\", gerente1.bono)\n",
        "\n",
        "# Cálculo del salario anual del gerente, que tiene en cuenta el bono.\n",
        "print(\"Salario anual del gerente:\", gerente1.calcular_salario_anual())"
      ],
      "metadata": {
        "colab": {
          "base_uri": "https://localhost:8080/"
        },
        "id": "Okf5XbyKOAIw",
        "outputId": "d08a3a50-07f6-4f4c-e81c-9c9a56483341"
      },
      "execution_count": null,
      "outputs": [
        {
          "output_type": "stream",
          "name": "stdout",
          "text": [
            "Nombre del empleado: Alice\n",
            "El nombre debe tener al menos 3 caracteres.\n",
            "Salario anual del empleado: 480000\n",
            "Nombre del gerente: Eva\n",
            "Bono del gerente: 10000\n",
            "Salario anual del gerente: 730000\n"
          ]
        }
      ]
    },
    {
      "cell_type": "code",
      "source": [
        "# Definición de una clase llamada \"Empleado\"\n",
        "class Empleado:\n",
        "    # El método constructor (__init__) se llama automáticamente al crear una instancia de la clase.\n",
        "    def __init__(self, nombre, salario):\n",
        "        # Atributo protegido (_nombre) que almacena el nombre del empleado.\n",
        "        self._nombre = nombre\n",
        "        # Atributo público (salario) que almacena el salario del empleado.\n",
        "        self.salario = salario\n",
        "\n",
        "    # Método público para obtener el nombre del empleado.\n",
        "    def obtener_nombre(self):\n",
        "        return self._nombre\n",
        "\n",
        "    # Método público para establecer el nombre del empleado con validación.\n",
        "    def establecer_nombre(self, nuevo_nombre):\n",
        "        # Validación: El nombre debe tener al menos 3 caracteres.\n",
        "        if len(nuevo_nombre) >= 3:\n",
        "            self._nombre = nuevo_nombre\n",
        "        else:\n",
        "            print(\"El nombre debe tener al menos 3 caracteres.\")\n",
        "\n",
        "    # Método público para calcular el salario anual del empleado.\n",
        "    def calcular_salario_anual(self):\n",
        "        return self.salario * 12\n",
        "\n",
        "# Definición de una subclase \"Gerente\" que hereda de la clase \"Empleado\"\n",
        "class Gerente(Empleado):\n",
        "    # El constructor de la subclase, que recibe nombre, salario y bono.\n",
        "    def __init__(self, nombre, salario, bono):\n",
        "        # Llamada al constructor de la superclase (Empleado) para inicializar nombre y salario.\n",
        "        super().__init__(nombre, salario)\n",
        "        # Atributo específico de la subclase (bono).\n",
        "        self.bono = bono\n",
        "\n",
        "    # Sobrescribiendo el método calcular_salario_anual de la superclase.\n",
        "    def calcular_salario_anual(self):\n",
        "        # Llamada al método de la superclase para obtener el salario base anual.\n",
        "        salario_base_anual = super().calcular_salario_anual()\n",
        "        # Se agrega el bono al salario base para calcular el salario anual del gerente.\n",
        "        return salario_base_anual + self.bono"
      ],
      "metadata": {
        "id": "pHbCavtrFYKO"
      },
      "execution_count": null,
      "outputs": []
    },
    {
      "cell_type": "code",
      "source": [
        "# Creación de una instancia de la clase Empleado\n",
        "empleado1 = Empleado(\"Pablo\", 3650)\n",
        "\n",
        "# Acceso al atributo protegido \"_nombre\" a través de un método público.\n",
        "print(\"Nombre del empleado:\", empleado1.obtener_nombre())\n",
        "\n",
        "# Acceso al atributo público \"salario\".\n",
        "print(\"Salario anual del empleado:\", empleado1.calcular_salario_anual())"
      ],
      "metadata": {
        "colab": {
          "base_uri": "https://localhost:8080/"
        },
        "id": "0oHuMN_TFer9",
        "outputId": "bda47386-7678-4496-d1e9-c7b22fe50775"
      },
      "execution_count": null,
      "outputs": [
        {
          "output_type": "stream",
          "name": "stdout",
          "text": [
            "Nombre del empleado: Pablo\n",
            "Salario anual del empleado: 43800\n"
          ]
        }
      ]
    },
    {
      "cell_type": "code",
      "source": [
        "# Creación de una instancia de la subclase Gerente\n",
        "gerente1 = Gerente(\"Julio\", 12000, 10000)\n",
        "\n",
        "# Acceso al atributo protegido \"_nombre\" de la subclase.\n",
        "print(\"Nombre del gerente:\", gerente1.obtener_nombre())\n",
        "\n",
        "# Acceso al atributo específico de la subclase \"bono\".\n",
        "print(\"Bono del gerente:\", gerente1.bono)\n",
        "\n",
        "# Cálculo del salario anual del gerente, que tiene en cuenta el bono.\n",
        "print(\"Salario anual del gerente:\", gerente1.calcular_salario_anual())"
      ],
      "metadata": {
        "colab": {
          "base_uri": "https://localhost:8080/"
        },
        "id": "M3zy-frrF_c3",
        "outputId": "8875c73a-e444-4534-b4c6-07c17fe8cab1"
      },
      "execution_count": null,
      "outputs": [
        {
          "output_type": "stream",
          "name": "stdout",
          "text": [
            "Nombre del gerente: Julio\n",
            "Bono del gerente: 10000\n",
            "Salario anual del gerente: 154000\n"
          ]
        }
      ]
    },
    {
      "cell_type": "markdown",
      "source": [
        "# Definición de Funciones en Python\n",
        "\n",
        "Las funciones son una parte fundamental de la programación en Python y en la mayoría de los lenguajes de programación. Son bloques de código reutilizable que realizan tareas específicas cuando se llaman. En Python, las funciones son esenciales para organizar y modular el código, lo que facilita la lectura, escritura y mantenimiento del programa.\n",
        "\n",
        "## 1. Función en Python\n",
        "\n",
        "Una función es un bloque de código que realiza una tarea específica cuando se llama. Puedes pensar en las funciones como \"cajas negras\" que toman ciertas entradas (llamadas argumentos o parámetros), realizan una operación y pueden devolver un resultado. Las funciones permiten dividir el código en piezas más pequeñas y lógicas, lo que facilita la gestión y el desarrollo de software más complejo.\n",
        "\n",
        "## 2. Definición de Función\n",
        "\n",
        "Para definir una función en Python, utilizamos la palabra clave `def`, seguida del nombre de la función y una lista de parámetros entre paréntesis. La estructura básica de una definición de función es la siguiente:\n",
        "\n",
        "```python\n",
        "def nombre_de_la_funcion(parametro1, parametro2, ...):\n",
        "    # Cuerpo de la función\n",
        "    # Realizar tareas y cálculos aquí\n",
        "    return resultado\n",
        "```\n",
        "\n",
        "- `nombre_de_la_funcion`: Es el nombre que le das a la función. Debe seguir las convenciones de nombres de variables (letras minúsculas y palabras separadas por guiones bajos).\n",
        "\n",
        "- `parametro1, parametro2, ...`: Son los parámetros que la función espera recibir cuando se llama. Los parámetros son opcionales, es decir, una función puede no tener ningún parámetro o varios.\n",
        "\n",
        "- `return resultado`: La declaración `return` permite que la función devuelva un valor o resultado. No todas las funciones necesitan devolver un valor, en cuyo caso se omite `return`."
      ],
      "metadata": {
        "id": "iYguKfyLOxmN"
      }
    },
    {
      "cell_type": "markdown",
      "source": [
        "## 3. Parámetros\n",
        "\n",
        "Los parámetros son valores que se pasan a una función para que los utilice durante su ejecución. Estos valores se especifican en la definición de la función entre paréntesis y se utilizan dentro del cuerpo de la función. Los parámetros permiten que las funciones sean más flexibles y reutilizables al poder trabajar con diferentes datos en cada llamada.\n",
        "\n",
        "### Ejemplo de Función con Parámetros:\n",
        "\n",
        "```python\n",
        "def saludar(nombre):\n",
        "    print(\"Hola,\", nombre)\n",
        "\n",
        "# Llamando a la función con un argumento\n",
        "saludar(\"Alice\")  # Salida: \"Hola, Alice\"\n",
        "saludar(\"Bob\")    # Salida: \"Hola, Bob\"\n",
        "```\n",
        "\n",
        "En este ejemplo, la función `saludar` tiene un parámetro `nombre`, que se utiliza para imprimir un saludo personalizado."
      ],
      "metadata": {
        "id": "BxSYiWMdO78u"
      }
    },
    {
      "cell_type": "code",
      "source": [
        "def saludar(nombre):\n",
        "    print(\"Hola,\", nombre)\n",
        "\n",
        "# Llamando a la función con un argumento\n",
        "saludar(\"Alice\")  # Salida: \"Hola, Alice\"\n",
        "saludar(\"Bob\")    # Salida: \"Hola, Bob\""
      ],
      "metadata": {
        "colab": {
          "base_uri": "https://localhost:8080/"
        },
        "id": "XZ9kOkJOPekY",
        "outputId": "e7287e06-0061-48ce-ddb1-ecd363a2acda"
      },
      "execution_count": null,
      "outputs": [
        {
          "output_type": "stream",
          "name": "stdout",
          "text": [
            "Hola, Alice\n",
            "Hola, Bob\n"
          ]
        }
      ]
    },
    {
      "cell_type": "markdown",
      "source": [
        "## 4. Argumentos\n",
        "\n",
        "Los argumentos son los valores reales que se pasan a una función cuando se llama. Los argumentos se corresponden con los parámetros definidos en la función y determinan los valores que la función utilizará en su ejecución.\n",
        "\n",
        "### Ejemplo de Función con Argumentos:\n",
        "\n",
        "```python\n",
        "def suma(a, b):\n",
        "    resultado = a + b\n",
        "    return resultado\n",
        "\n",
        "# Llamando a la función con argumentos\n",
        "resultado_suma = suma(3, 5)\n",
        "print(resultado_suma)  # Salida: 8\n",
        "```\n",
        "\n",
        "En este ejemplo, la función `suma` recibe dos argumentos, `a` y `b`, que son 3 y 5 respectivamente en la llamada a la función. La función realiza la suma de estos dos valores y devuelve el resultado."
      ],
      "metadata": {
        "id": "quTuFU9kO_9C"
      }
    },
    {
      "cell_type": "code",
      "source": [
        "def suma(a, b):\n",
        "    resultado = a + b\n",
        "    return resultado\n",
        "\n",
        "# Llamando a la función con argumentos\n",
        "resultado_suma = suma(3, 5)\n",
        "print(resultado_suma)  # Salida: 8"
      ],
      "metadata": {
        "colab": {
          "base_uri": "https://localhost:8080/"
        },
        "id": "ZH38QKCLPg1W",
        "outputId": "5d3d822e-7281-4acb-a12a-916d2a5b131f"
      },
      "execution_count": null,
      "outputs": [
        {
          "output_type": "stream",
          "name": "stdout",
          "text": [
            "8\n"
          ]
        }
      ]
    },
    {
      "cell_type": "markdown",
      "source": [
        "## 5. Valor de Retorno\n",
        "\n",
        "Una función puede devolver un valor utilizando la palabra clave `return`. El valor de retorno es opcional y se utiliza para transmitir un resultado o información desde la función al lugar donde se llamó la función.\n",
        "\n",
        "### Ejemplo de Función con Valor de Retorno:\n",
        "\n",
        "```python\n",
        "def multiplicar(a, b):\n",
        "    resultado = a * b\n",
        "    return resultado\n",
        "\n",
        "# Llamando a la función y almacenando el valor de retorno\n",
        "resultado_multiplicacion = multiplicar(4, 6)\n",
        "print(resultado_multiplicacion)  # Salida: 24\n",
        "```\n",
        "\n",
        "En este ejemplo, la función `multiplicar` calcula el producto de los argumentos `a` y `b` y devuelve el resultado utilizando `return`."
      ],
      "metadata": {
        "id": "6YvQudjIPC4g"
      }
    },
    {
      "cell_type": "code",
      "source": [
        "def multiplicar(a, b):\n",
        "    resultado = a * b\n",
        "    return resultado\n",
        "\n",
        "# Llamando a la función y almacenando el valor de retorno\n",
        "resultado_multiplicacion = multiplicar(4, 6)\n",
        "print(resultado_multiplicacion)  # Salida: 24"
      ],
      "metadata": {
        "colab": {
          "base_uri": "https://localhost:8080/"
        },
        "id": "-XHFfc1jPjIk",
        "outputId": "c1f061ba-8f7a-45a7-bb06-50e40eabcbdc"
      },
      "execution_count": null,
      "outputs": [
        {
          "output_type": "stream",
          "name": "stdout",
          "text": [
            "24\n"
          ]
        }
      ]
    },
    {
      "cell_type": "markdown",
      "source": [
        "## 6. Funciones Incorporadas\n",
        "\n",
        "Python proporciona una amplia variedad de funciones incorporadas que se pueden utilizar sin necesidad de definirlas previamente. Estas funciones incorporadas realizan tareas comunes y útiles. Algunos ejemplos de funciones incorporadas son:\n",
        "\n",
        "- `print()`: Utilizada para imprimir valores en la consola.\n",
        "\n",
        "\n",
        "- `len()`: Devuelve la longitud (número de elementos) de una secuencia, como una lista o una cadena.\n",
        "- `type()`: Devuelve el tipo de un objeto.\n",
        "- `max()`: Devuelve el valor máximo en una secuencia.\n",
        "- `min()`: Devuelve el valor mínimo en una secuencia.\n",
        "\n",
        "### Ejemplo de Uso de Funciones Incorporadas:\n",
        "\n",
        "```python\n",
        "cadena = \"Hola, mundo\"\n",
        "longitud = len(cadena)\n",
        "print(\"La longitud de la cadena es:\", longitud)  # Salida: 11\n",
        "\n",
        "numeros = [3, 1, 4, 1, 5, 9, 2, 6, 5, 3, 5]\n",
        "maximo = max(numeros)\n",
        "print(\"El valor máximo en la lista es:\", maximo)  # Salida: 9\n",
        "```\n",
        "\n",
        "En este ejemplo, se utilizan las funciones incorporadas `len()` y `max()` para calcular la longitud de una cadena y encontrar el valor máximo en una lista."
      ],
      "metadata": {
        "id": "_lcROXF-PF6X"
      }
    },
    {
      "cell_type": "code",
      "source": [
        "cadena = \"Hola, mundo\"\n",
        "longitud = len(cadena)\n",
        "print(\"La longitud de la cadena es:\", longitud)  # Salida: 11\n",
        "\n",
        "numeros = [3, 1, 4, 1, 5, 9, 2, 6, 5, 3, 5]\n",
        "maximo = max(numeros)\n",
        "print(\"El valor máximo en la lista es:\", maximo)  # Salida: 9"
      ],
      "metadata": {
        "colab": {
          "base_uri": "https://localhost:8080/"
        },
        "id": "v3qfxa3vPlWI",
        "outputId": "16213d4c-5f5b-4c37-d7a4-a4bcf962270a"
      },
      "execution_count": null,
      "outputs": [
        {
          "output_type": "stream",
          "name": "stdout",
          "text": [
            "La longitud de la cadena es: 11\n",
            "El valor máximo en la lista es: 9\n"
          ]
        }
      ]
    },
    {
      "cell_type": "markdown",
      "source": [
        "## 7. Funciones de Usuario\n",
        "\n",
        "Además de las funciones incorporadas, Python permite a los programadores definir sus propias funciones. Las funciones de usuario son funciones que creamos nosotros mismos para realizar tareas específicas. Esto nos permite encapsular lógica y reutilizarla en diferentes partes de nuestro programa.\n",
        "\n",
        "### Ejemplo de Función de Usuario:\n",
        "\n",
        "```python\n",
        "def calcular_cuadrado(numero):\n",
        "    cuadrado = numero ** 2\n",
        "    return cuadrado\n",
        "\n",
        "# Llamando a la función de usuario\n",
        "resultado_cuadrado = calcular_cuadrado(4)\n",
        "print(resultado_cuadrado)  # Salida: 16\n",
        "```\n",
        "\n",
        "En este ejemplo, hemos definido la función `calcular_cuadrado` que toma un número como argumento y devuelve su cuadrado."
      ],
      "metadata": {
        "id": "3ufu8GSSPI51"
      }
    },
    {
      "cell_type": "code",
      "source": [
        "def calcular_cuadrado(numero):\n",
        "    cuadrado = numero ** 2\n",
        "    return cuadrado\n",
        "\n",
        "# Llamando a la función de usuario\n",
        "resultado_cuadrado = calcular_cuadrado(4)\n",
        "print(resultado_cuadrado)  # Salida: 16"
      ],
      "metadata": {
        "colab": {
          "base_uri": "https://localhost:8080/"
        },
        "id": "M9UHdQ55PraP",
        "outputId": "1716033b-a241-4fb8-c87c-a12ac3794848"
      },
      "execution_count": null,
      "outputs": [
        {
          "output_type": "stream",
          "name": "stdout",
          "text": [
            "16\n"
          ]
        }
      ]
    },
    {
      "cell_type": "markdown",
      "source": [
        "## 8. Ámbito de Variables\n",
        "\n",
        "Las variables pueden tener un ámbito local o global en Python, lo que significa que pueden ser accesibles solo dentro de una función o en todo el programa, respectivamente.\n",
        "\n",
        "- **Ámbito Local:** Las variables definidas dentro de una función tienen un ámbito local y solo son visibles dentro de esa función. No pueden ser accedidas desde fuera de la función.\n",
        "\n",
        "- **Ámbito Global:** Las variables definidas fuera de todas las funciones tienen un ámbito global y pueden ser accesibles desde cualquier parte del programa. Sin embargo, si una función define una variable con el mismo nombre, se considera una variable local que oculta la variable global dentro de la función.\n",
        "\n",
        "### Ejemplo de Ámbito de Variables:\n",
        "\n",
        "```python\n",
        "variable_global = 10  # Variable global\n",
        "\n",
        "def funcion():\n",
        "    variable_local = 5  # Variable local\n",
        "    print(\"Variable local dentro de la función:\", variable_local)\n",
        "    print(\"Variable global dentro de la función:\", variable_global)\n",
        "\n",
        "funcion()\n",
        "print(\"Variable global fuera de la función:\", variable_global)\n",
        "```\n",
        "\n",
        "En este ejemplo, `variable_global` es una variable global que es accesible tanto dentro como fuera de la función. `variable_local` es una variable local que solo es visible dentro de la función `funcion`."
      ],
      "metadata": {
        "id": "uJPFxx_wPLh1"
      }
    },
    {
      "cell_type": "code",
      "source": [
        "variable_global = 10  # Variable global\n",
        "\n",
        "def funcion():\n",
        "    variable_local = 5  # Variable local\n",
        "    print(\"Variable local dentro de la función:\", variable_local)\n",
        "    print(\"Variable global dentro de la función:\", variable_global)\n",
        "\n",
        "funcion()\n",
        "print(\"Variable global fuera de la función:\", variable_global)"
      ],
      "metadata": {
        "colab": {
          "base_uri": "https://localhost:8080/"
        },
        "id": "MTgsyB86Pu7N",
        "outputId": "c79a3d7a-d591-45a8-a407-f87ac72eeddf"
      },
      "execution_count": null,
      "outputs": [
        {
          "output_type": "stream",
          "name": "stdout",
          "text": [
            "Variable local dentro de la función: 5\n",
            "Variable global dentro de la función: 10\n",
            "Variable global fuera de la función: 10\n"
          ]
        }
      ]
    },
    {
      "cell_type": "markdown",
      "source": [
        "## 9. Recursión\n",
        "\n",
        "La recursión es una técnica en la que una función se llama a sí misma para resolver un problema. Python admite la recursión y se utiliza en situaciones donde un problema se puede dividir en subproblemas más pequeños y similares. Cada llamada recursiva resuelve un subproblema más pequeño y contribuye a la solución del problema original.\n",
        "\n",
        "### Ejemplo de Recursión: Cálculo de Factorial\n",
        "\n",
        "```python\n",
        "def factorial(n):\n",
        "    if n == 0:\n",
        "        return 1\n",
        "    else:\n",
        "        return n * factorial(n - 1)\n",
        "\n",
        "resultado_factorial = factorial(5)\n",
        "print(\"Factorial de 5:\", resultado_factorial)  # Salida: 120\n",
        "```\n",
        "\n",
        "En este ejemplo, la función `factorial` se llama a sí misma para calcular el factorial de un número `n`. La recursión se detiene cuando `n` alcanza 0, momento en el que se devuelve 1."
      ],
      "metadata": {
        "id": "Ni_FQ5cwPNrJ"
      }
    },
    {
      "cell_type": "code",
      "source": [
        "def factorial(n):\n",
        "    if n == 0:\n",
        "        return 1\n",
        "    else:\n",
        "        return n * factorial(n - 1)\n",
        "\n",
        "resultado_factorial = factorial(5)\n",
        "print(\"Factorial de 5:\", resultado_factorial)  # Salida: 120"
      ],
      "metadata": {
        "colab": {
          "base_uri": "https://localhost:8080/"
        },
        "id": "QYuD3hHrP1Pp",
        "outputId": "b9bf3da9-4019-4272-f3dd-185c9f282be4"
      },
      "execution_count": null,
      "outputs": [
        {
          "output_type": "stream",
          "name": "stdout",
          "text": [
            "Factorial de 5: 120\n"
          ]
        }
      ]
    },
    {
      "cell_type": "markdown",
      "source": [
        "## 10. Documentación de Funciones\n",
        "\n",
        "Es una buena práctica documentar las funciones utilizando docstrings (cadenas de documentación) para describir su propósito y cómo se deben usar. Los docstrings son útiles para que otros programadores comprendan el propósito de una función y cómo deben interactuar con ella.\n",
        "\n",
        "### Ejemplo de Documentación de Función:\n",
        "\n",
        "```python\n",
        "def suma(a, b):\n",
        "    \"\"\"\n",
        "    Esta función suma dos números y devuelve el resultado.\n",
        "    \n",
        "    Args:\n",
        "        a (int): El primer número.\n",
        "        b (int): El segundo número.\n",
        "    \n",
        "    Returns:\n",
        "        int: La suma de los dos números.\n",
        "    \"\"\"\n",
        "    resultado = a + b\n",
        "    return resultado\n",
        "```\n",
        "\n",
        "En este ejemplo, el docstring proporciona una descripción clara de lo que hace la función, qué argumentos espera y qué valor devuelve."
      ],
      "metadata": {
        "id": "XayRZJ90PPo8"
      }
    },
    {
      "cell_type": "code",
      "source": [
        "# Ejemplo\n",
        "\n",
        "# Definición de una función llamada \"calcular_promedio\"\n",
        "def calcular_promedio(lista_numeros):\n",
        "    \"\"\"\n",
        "    Esta función toma una lista de números como argumento y calcula su promedio.\n",
        "\n",
        "    Args:\n",
        "        lista_numeros (list): Una lista de números (int o float).\n",
        "\n",
        "    Returns:\n",
        "        float: El promedio de los números en la lista.\n",
        "    \"\"\"\n",
        "    # Inicializamos una variable llamada \"suma\" con 0 para llevar un seguimiento de la suma de números.\n",
        "    suma = 0\n",
        "\n",
        "    # Utilizamos un bucle \"for\" para recorrer cada número en la lista.\n",
        "    for numero in lista_numeros:\n",
        "        # Sumamos cada número a la variable \"suma\".\n",
        "        suma += numero\n",
        "\n",
        "    # Calculamos el promedio dividiendo la suma entre la cantidad de números en la lista.\n",
        "    promedio = suma / len(lista_numeros)\n",
        "\n",
        "    # Devolvemos el promedio como resultado de la función.\n",
        "    return promedio\n",
        "\n",
        "# Creamos una lista de números para calcular su promedio.\n",
        "numeros = [5, 10, 15, 20, 25]\n",
        "\n",
        "# Llamamos a la función \"calcular_promedio\" pasando la lista como argumento.\n",
        "resultado_promedio = calcular_promedio(numeros)\n",
        "\n",
        "# Imprimimos el resultado del cálculo del promedio.\n",
        "print(\"El promedio de la lista es:\", resultado_promedio)\n"
      ],
      "metadata": {
        "colab": {
          "base_uri": "https://localhost:8080/"
        },
        "id": "am38_8INPTrF",
        "outputId": "388c355c-325e-4040-836d-d546e4867ade"
      },
      "execution_count": null,
      "outputs": [
        {
          "output_type": "stream",
          "name": "stdout",
          "text": [
            "El promedio de la lista es: 15.0\n"
          ]
        }
      ]
    }
  ]
}